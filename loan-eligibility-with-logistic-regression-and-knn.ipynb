{
 "cells": [
  {
   "cell_type": "markdown",
   "id": "a169a80e",
   "metadata": {
    "papermill": {
     "duration": 0.057927,
     "end_time": "2021-10-29T19:28:10.925541",
     "exception": false,
     "start_time": "2021-10-29T19:28:10.867614",
     "status": "completed"
    },
    "tags": []
   },
   "source": [
    "---\n",
    "# Classification - Loan Eligibility Prediction\n",
    "---"
   ]
  },
  {
   "cell_type": "markdown",
   "id": "fc0213ba",
   "metadata": {
    "papermill": {
     "duration": 0.056915,
     "end_time": "2021-10-29T19:28:11.039679",
     "exception": false,
     "start_time": "2021-10-29T19:28:10.982764",
     "status": "completed"
    },
    "tags": []
   },
   "source": [
    "## Context: \n",
    "---\n",
    "\n",
    "Credit risk is the risk of loss resulting from the failure by a borrower to repay the principal and interest owed to the lender. The lender uses the interest payments from the loan to compensate for the risk of potential losses. When the borrower defaults on his/her obligations, it causes an interruption in the cash flow of the lender.\n",
    "\n",
    "In the banking sector, this is an important factor to be considered before approving the loan of an applicant in order to cushion the lender from loss of cash flow and reduce the severity of losses. \n",
    "\n",
    "## Data Dictionary:\n",
    "--------------------------\n",
    "\n",
    "The data contains the following attributes:\n",
    "\n",
    "* **Loan_ID**: Unique Loan ID\n",
    "* **Gender**: Gender of the applicant - Male/Female\n",
    "* **Married**: Whether the applicant is married or not (Yes/No)\n",
    "* **Dependents**: Number of dependents of the applicant\n",
    "* **Education**: Applicant's education (Graduate/Not Graduate)\n",
    "* **Self_Employed**: Whether the applicant is self-employed (Yes/No)\n",
    "* **ApplicantIncome**: The income of the applicant (\\$)\n",
    "* **CoapplicantIncome**: The co-applicant's income in case of a joint loan and 0 otherwise (\\$)\n",
    "* **LoanAmount**: Loan amount (dollars in thousands) \n",
    "* **Loan_Amount_Term**: Term of loan in months\n",
    "* **Credit_History**: Whether the applicant's credit history meets required guidelines\n",
    "* **Property_Area**: The area the property pertaining to the loan belongs to - Urban/Semi-Urban/Rural\n",
    "* **Loan_Status**: Loan approved (1 - Yes, 0 - No)"
   ]
  },
  {
   "cell_type": "markdown",
   "id": "3bb5bb54",
   "metadata": {
    "papermill": {
     "duration": 0.055034,
     "end_time": "2021-10-29T19:28:11.149942",
     "exception": false,
     "start_time": "2021-10-29T19:28:11.094908",
     "status": "completed"
    },
    "tags": []
   },
   "source": [
    "## Importing necessary libraries and overview of the dataset"
   ]
  },
  {
   "cell_type": "code",
   "execution_count": 3,
   "id": "90b96ba6",
   "metadata": {
    "execution": {
     "iopub.execute_input": "2021-10-29T19:28:11.265490Z",
     "iopub.status.busy": "2021-10-29T19:28:11.264278Z",
     "iopub.status.idle": "2021-10-29T19:28:12.650843Z",
     "shell.execute_reply": "2021-10-29T19:28:12.649976Z",
     "shell.execute_reply.started": "2021-10-29T19:26:02.948294Z"
    },
    "papermill": {
     "duration": 1.445951,
     "end_time": "2021-10-29T19:28:12.651031",
     "exception": false,
     "start_time": "2021-10-29T19:28:11.205080",
     "status": "completed"
    },
    "tags": []
   },
   "outputs": [],
   "source": [
    "import pandas as pd\n",
    "import numpy as np\n",
    "import matplotlib.pyplot as plt\n",
    "import seaborn as sns\n",
    "\n",
    "#To scale the data using z-score \n",
    "from sklearn.preprocessing import StandardScaler\n",
    "from sklearn.model_selection import train_test_split\n",
    "\n",
    "#Algorithms to use\n",
    "from sklearn.linear_model import LogisticRegression\n",
    "from sklearn.neighbors import KNeighborsClassifier\n",
    "\n",
    "#Metrics to evaluate the model\n",
    "from sklearn.metrics import confusion_matrix, classification_report, precision_recall_curve\n",
    "\n",
    "import warnings\n",
    "warnings.filterwarnings(\"ignore\")"
   ]
  },
  {
   "cell_type": "markdown",
   "id": "10285608",
   "metadata": {
    "papermill": {
     "duration": 0.055647,
     "end_time": "2021-10-29T19:28:12.762451",
     "exception": false,
     "start_time": "2021-10-29T19:28:12.706804",
     "status": "completed"
    },
    "tags": []
   },
   "source": [
    "**Loading Data**"
   ]
  },
  {
   "cell_type": "code",
   "execution_count": 4,
   "id": "defb4ad0",
   "metadata": {
    "execution": {
     "iopub.execute_input": "2021-10-29T19:28:12.950688Z",
     "iopub.status.busy": "2021-10-29T19:28:12.949727Z",
     "iopub.status.idle": "2021-10-29T19:28:13.007467Z",
     "shell.execute_reply": "2021-10-29T19:28:13.008092Z",
     "shell.execute_reply.started": "2021-10-29T19:26:17.972256Z"
    },
    "papermill": {
     "duration": 0.121124,
     "end_time": "2021-10-29T19:28:13.008286",
     "exception": false,
     "start_time": "2021-10-29T19:28:12.887162",
     "status": "completed"
    },
    "tags": []
   },
   "outputs": [
    {
     "data": {
      "text/html": [
       "<div>\n",
       "<style scoped>\n",
       "    .dataframe tbody tr th:only-of-type {\n",
       "        vertical-align: middle;\n",
       "    }\n",
       "\n",
       "    .dataframe tbody tr th {\n",
       "        vertical-align: top;\n",
       "    }\n",
       "\n",
       "    .dataframe thead th {\n",
       "        text-align: right;\n",
       "    }\n",
       "</style>\n",
       "<table border=\"1\" class=\"dataframe\">\n",
       "  <thead>\n",
       "    <tr style=\"text-align: right;\">\n",
       "      <th></th>\n",
       "      <th>Loan_ID</th>\n",
       "      <th>Gender</th>\n",
       "      <th>Married</th>\n",
       "      <th>Dependents</th>\n",
       "      <th>Education</th>\n",
       "      <th>Self_Employed</th>\n",
       "      <th>ApplicantIncome</th>\n",
       "      <th>CoapplicantIncome</th>\n",
       "      <th>LoanAmount</th>\n",
       "      <th>Loan_Amount_Term</th>\n",
       "      <th>Credit_History</th>\n",
       "      <th>Property_Area</th>\n",
       "      <th>Loan_Status</th>\n",
       "    </tr>\n",
       "  </thead>\n",
       "  <tbody>\n",
       "    <tr>\n",
       "      <th>0</th>\n",
       "      <td>LP001002</td>\n",
       "      <td>Male</td>\n",
       "      <td>No</td>\n",
       "      <td>0</td>\n",
       "      <td>Graduate</td>\n",
       "      <td>No</td>\n",
       "      <td>5849</td>\n",
       "      <td>0.0</td>\n",
       "      <td>NaN</td>\n",
       "      <td>360.0</td>\n",
       "      <td>1.0</td>\n",
       "      <td>Urban</td>\n",
       "      <td>Y</td>\n",
       "    </tr>\n",
       "    <tr>\n",
       "      <th>1</th>\n",
       "      <td>LP001003</td>\n",
       "      <td>Male</td>\n",
       "      <td>Yes</td>\n",
       "      <td>1</td>\n",
       "      <td>Graduate</td>\n",
       "      <td>No</td>\n",
       "      <td>4583</td>\n",
       "      <td>1508.0</td>\n",
       "      <td>128.0</td>\n",
       "      <td>360.0</td>\n",
       "      <td>1.0</td>\n",
       "      <td>Rural</td>\n",
       "      <td>N</td>\n",
       "    </tr>\n",
       "    <tr>\n",
       "      <th>2</th>\n",
       "      <td>LP001005</td>\n",
       "      <td>Male</td>\n",
       "      <td>Yes</td>\n",
       "      <td>0</td>\n",
       "      <td>Graduate</td>\n",
       "      <td>Yes</td>\n",
       "      <td>3000</td>\n",
       "      <td>0.0</td>\n",
       "      <td>66.0</td>\n",
       "      <td>360.0</td>\n",
       "      <td>1.0</td>\n",
       "      <td>Urban</td>\n",
       "      <td>Y</td>\n",
       "    </tr>\n",
       "    <tr>\n",
       "      <th>3</th>\n",
       "      <td>LP001006</td>\n",
       "      <td>Male</td>\n",
       "      <td>Yes</td>\n",
       "      <td>0</td>\n",
       "      <td>Not Graduate</td>\n",
       "      <td>No</td>\n",
       "      <td>2583</td>\n",
       "      <td>2358.0</td>\n",
       "      <td>120.0</td>\n",
       "      <td>360.0</td>\n",
       "      <td>1.0</td>\n",
       "      <td>Urban</td>\n",
       "      <td>Y</td>\n",
       "    </tr>\n",
       "    <tr>\n",
       "      <th>4</th>\n",
       "      <td>LP001008</td>\n",
       "      <td>Male</td>\n",
       "      <td>No</td>\n",
       "      <td>0</td>\n",
       "      <td>Graduate</td>\n",
       "      <td>No</td>\n",
       "      <td>6000</td>\n",
       "      <td>0.0</td>\n",
       "      <td>141.0</td>\n",
       "      <td>360.0</td>\n",
       "      <td>1.0</td>\n",
       "      <td>Urban</td>\n",
       "      <td>Y</td>\n",
       "    </tr>\n",
       "  </tbody>\n",
       "</table>\n",
       "</div>"
      ],
      "text/plain": [
       "    Loan_ID Gender Married Dependents     Education Self_Employed  \\\n",
       "0  LP001002   Male      No          0      Graduate            No   \n",
       "1  LP001003   Male     Yes          1      Graduate            No   \n",
       "2  LP001005   Male     Yes          0      Graduate           Yes   \n",
       "3  LP001006   Male     Yes          0  Not Graduate            No   \n",
       "4  LP001008   Male      No          0      Graduate            No   \n",
       "\n",
       "   ApplicantIncome  CoapplicantIncome  LoanAmount  Loan_Amount_Term  \\\n",
       "0             5849                0.0         NaN             360.0   \n",
       "1             4583             1508.0       128.0             360.0   \n",
       "2             3000                0.0        66.0             360.0   \n",
       "3             2583             2358.0       120.0             360.0   \n",
       "4             6000                0.0       141.0             360.0   \n",
       "\n",
       "   Credit_History Property_Area Loan_Status  \n",
       "0             1.0         Urban           Y  \n",
       "1             1.0         Rural           N  \n",
       "2             1.0         Urban           Y  \n",
       "3             1.0         Urban           Y  \n",
       "4             1.0         Urban           Y  "
      ]
     },
     "execution_count": 4,
     "metadata": {},
     "output_type": "execute_result"
    }
   ],
   "source": [
    "data = pd.read_csv(\"Loan_approval.csv\")\n",
    "data.head()"
   ]
  },
  {
   "cell_type": "code",
   "execution_count": 5,
   "id": "0eba1d52",
   "metadata": {
    "execution": {
     "iopub.execute_input": "2021-10-29T19:28:13.137471Z",
     "iopub.status.busy": "2021-10-29T19:28:13.136522Z",
     "iopub.status.idle": "2021-10-29T19:28:13.166990Z",
     "shell.execute_reply": "2021-10-29T19:28:13.167469Z",
     "shell.execute_reply.started": "2021-10-29T19:26:17.997253Z"
    },
    "papermill": {
     "duration": 0.093745,
     "end_time": "2021-10-29T19:28:13.167684",
     "exception": false,
     "start_time": "2021-10-29T19:28:13.073939",
     "status": "completed"
    },
    "tags": []
   },
   "outputs": [
    {
     "name": "stdout",
     "output_type": "stream",
     "text": [
      "<class 'pandas.core.frame.DataFrame'>\n",
      "RangeIndex: 614 entries, 0 to 613\n",
      "Data columns (total 13 columns):\n",
      " #   Column             Non-Null Count  Dtype  \n",
      "---  ------             --------------  -----  \n",
      " 0   Loan_ID            614 non-null    object \n",
      " 1   Gender             601 non-null    object \n",
      " 2   Married            611 non-null    object \n",
      " 3   Dependents         599 non-null    object \n",
      " 4   Education          614 non-null    object \n",
      " 5   Self_Employed      582 non-null    object \n",
      " 6   ApplicantIncome    614 non-null    int64  \n",
      " 7   CoapplicantIncome  614 non-null    float64\n",
      " 8   LoanAmount         592 non-null    float64\n",
      " 9   Loan_Amount_Term   600 non-null    float64\n",
      " 10  Credit_History     564 non-null    float64\n",
      " 11  Property_Area      614 non-null    object \n",
      " 12  Loan_Status        614 non-null    object \n",
      "dtypes: float64(4), int64(1), object(8)\n",
      "memory usage: 62.5+ KB\n"
     ]
    }
   ],
   "source": [
    "data.info()"
   ]
  },
  {
   "cell_type": "markdown",
   "id": "926395fb",
   "metadata": {
    "papermill": {
     "duration": 0.064907,
     "end_time": "2021-10-29T19:28:13.299203",
     "exception": false,
     "start_time": "2021-10-29T19:28:13.234296",
     "status": "completed"
    },
    "tags": []
   },
   "source": [
    "**Observations:**\n",
    "\n",
    "- There are 614 observations and 13 columns in the data.\n",
    "- ApplicantIncome, CoapplicantIncome, LoanAmount, Loan_Amount_Term, Credit_History, and Loan_Status are numeric data types. The rest of the variables are of the object data type.\n",
    "- There are several columns with less than 614 non-null entries i.e. these columns have missing values.\n",
    "- Loan_ID column is an identifier. Let's check if each entry of the column is unique."
   ]
  },
  {
   "cell_type": "code",
   "execution_count": 6,
   "id": "da74692b",
   "metadata": {
    "execution": {
     "iopub.execute_input": "2021-10-29T19:28:13.426920Z",
     "iopub.status.busy": "2021-10-29T19:28:13.424751Z",
     "iopub.status.idle": "2021-10-29T19:28:13.432066Z",
     "shell.execute_reply": "2021-10-29T19:28:13.432697Z",
     "shell.execute_reply.started": "2021-10-29T19:26:18.023597Z"
    },
    "papermill": {
     "duration": 0.069421,
     "end_time": "2021-10-29T19:28:13.432896",
     "exception": false,
     "start_time": "2021-10-29T19:28:13.363475",
     "status": "completed"
    },
    "tags": []
   },
   "outputs": [
    {
     "data": {
      "text/plain": [
       "614"
      ]
     },
     "execution_count": 6,
     "metadata": {},
     "output_type": "execute_result"
    }
   ],
   "source": [
    "data.Loan_ID.nunique()"
   ]
  },
  {
   "cell_type": "markdown",
   "id": "ccc33fe8",
   "metadata": {
    "papermill": {
     "duration": 0.057619,
     "end_time": "2021-10-29T19:28:13.548016",
     "exception": false,
     "start_time": "2021-10-29T19:28:13.490397",
     "status": "completed"
    },
    "tags": []
   },
   "source": [
    "**Observations:**\n",
    "- We can see that all the entries of this column are unique. Hence, this column would not add any value to our analysis. \n",
    "- Let's drop this column."
   ]
  },
  {
   "cell_type": "markdown",
   "id": "af909ed3",
   "metadata": {
    "papermill": {
     "duration": 0.057311,
     "end_time": "2021-10-29T19:28:13.662900",
     "exception": false,
     "start_time": "2021-10-29T19:28:13.605589",
     "status": "completed"
    },
    "tags": []
   },
   "source": [
    "## Exploratory Data Analysis and Data Preprocessing"
   ]
  },
  {
   "cell_type": "markdown",
   "id": "71b72da8",
   "metadata": {
    "papermill": {
     "duration": 0.060782,
     "end_time": "2021-10-29T19:28:13.782204",
     "exception": false,
     "start_time": "2021-10-29T19:28:13.721422",
     "status": "completed"
    },
    "tags": []
   },
   "source": [
    "**Dropping Loan_ID column**"
   ]
  },
  {
   "cell_type": "code",
   "execution_count": 7,
   "id": "3e2c0f43",
   "metadata": {
    "execution": {
     "iopub.execute_input": "2021-10-29T19:28:13.906780Z",
     "iopub.status.busy": "2021-10-29T19:28:13.906082Z",
     "iopub.status.idle": "2021-10-29T19:28:13.907466Z",
     "shell.execute_reply": "2021-10-29T19:28:13.908090Z",
     "shell.execute_reply.started": "2021-10-29T19:26:18.036212Z"
    },
    "papermill": {
     "duration": 0.068228,
     "end_time": "2021-10-29T19:28:13.908284",
     "exception": false,
     "start_time": "2021-10-29T19:28:13.840056",
     "status": "completed"
    },
    "tags": []
   },
   "outputs": [],
   "source": [
    "data.drop(columns=['Loan_ID'], inplace = True)"
   ]
  },
  {
   "cell_type": "markdown",
   "id": "af47d6ab",
   "metadata": {
    "papermill": {
     "duration": 0.059188,
     "end_time": "2021-10-29T19:28:14.027760",
     "exception": false,
     "start_time": "2021-10-29T19:28:13.968572",
     "status": "completed"
    },
    "tags": []
   },
   "source": [
    "**Summary Statistics for numerical columns**"
   ]
  },
  {
   "cell_type": "code",
   "execution_count": 8,
   "id": "9b28a04d",
   "metadata": {
    "execution": {
     "iopub.execute_input": "2021-10-29T19:28:14.146973Z",
     "iopub.status.busy": "2021-10-29T19:28:14.146290Z",
     "iopub.status.idle": "2021-10-29T19:28:14.172123Z",
     "shell.execute_reply": "2021-10-29T19:28:14.171440Z",
     "shell.execute_reply.started": "2021-10-29T19:26:18.048802Z"
    },
    "papermill": {
     "duration": 0.086923,
     "end_time": "2021-10-29T19:28:14.172279",
     "exception": false,
     "start_time": "2021-10-29T19:28:14.085356",
     "status": "completed"
    },
    "tags": []
   },
   "outputs": [
    {
     "data": {
      "text/html": [
       "<div>\n",
       "<style scoped>\n",
       "    .dataframe tbody tr th:only-of-type {\n",
       "        vertical-align: middle;\n",
       "    }\n",
       "\n",
       "    .dataframe tbody tr th {\n",
       "        vertical-align: top;\n",
       "    }\n",
       "\n",
       "    .dataframe thead th {\n",
       "        text-align: right;\n",
       "    }\n",
       "</style>\n",
       "<table border=\"1\" class=\"dataframe\">\n",
       "  <thead>\n",
       "    <tr style=\"text-align: right;\">\n",
       "      <th></th>\n",
       "      <th>ApplicantIncome</th>\n",
       "      <th>CoapplicantIncome</th>\n",
       "      <th>LoanAmount</th>\n",
       "      <th>Loan_Amount_Term</th>\n",
       "    </tr>\n",
       "  </thead>\n",
       "  <tbody>\n",
       "    <tr>\n",
       "      <th>count</th>\n",
       "      <td>614.000000</td>\n",
       "      <td>614.000000</td>\n",
       "      <td>592.000000</td>\n",
       "      <td>600.00000</td>\n",
       "    </tr>\n",
       "    <tr>\n",
       "      <th>mean</th>\n",
       "      <td>5403.459283</td>\n",
       "      <td>1621.245798</td>\n",
       "      <td>146.412162</td>\n",
       "      <td>342.00000</td>\n",
       "    </tr>\n",
       "    <tr>\n",
       "      <th>std</th>\n",
       "      <td>6109.041673</td>\n",
       "      <td>2926.248369</td>\n",
       "      <td>85.587325</td>\n",
       "      <td>65.12041</td>\n",
       "    </tr>\n",
       "    <tr>\n",
       "      <th>min</th>\n",
       "      <td>150.000000</td>\n",
       "      <td>0.000000</td>\n",
       "      <td>9.000000</td>\n",
       "      <td>12.00000</td>\n",
       "    </tr>\n",
       "    <tr>\n",
       "      <th>25%</th>\n",
       "      <td>2877.500000</td>\n",
       "      <td>0.000000</td>\n",
       "      <td>100.000000</td>\n",
       "      <td>360.00000</td>\n",
       "    </tr>\n",
       "    <tr>\n",
       "      <th>50%</th>\n",
       "      <td>3812.500000</td>\n",
       "      <td>1188.500000</td>\n",
       "      <td>128.000000</td>\n",
       "      <td>360.00000</td>\n",
       "    </tr>\n",
       "    <tr>\n",
       "      <th>75%</th>\n",
       "      <td>5795.000000</td>\n",
       "      <td>2297.250000</td>\n",
       "      <td>168.000000</td>\n",
       "      <td>360.00000</td>\n",
       "    </tr>\n",
       "    <tr>\n",
       "      <th>max</th>\n",
       "      <td>81000.000000</td>\n",
       "      <td>41667.000000</td>\n",
       "      <td>700.000000</td>\n",
       "      <td>480.00000</td>\n",
       "    </tr>\n",
       "  </tbody>\n",
       "</table>\n",
       "</div>"
      ],
      "text/plain": [
       "       ApplicantIncome  CoapplicantIncome  LoanAmount  Loan_Amount_Term\n",
       "count       614.000000         614.000000  592.000000         600.00000\n",
       "mean       5403.459283        1621.245798  146.412162         342.00000\n",
       "std        6109.041673        2926.248369   85.587325          65.12041\n",
       "min         150.000000           0.000000    9.000000          12.00000\n",
       "25%        2877.500000           0.000000  100.000000         360.00000\n",
       "50%        3812.500000        1188.500000  128.000000         360.00000\n",
       "75%        5795.000000        2297.250000  168.000000         360.00000\n",
       "max       81000.000000       41667.000000  700.000000         480.00000"
      ]
     },
     "execution_count": 8,
     "metadata": {},
     "output_type": "execute_result"
    }
   ],
   "source": [
    "#Creating a list of numerical columns\n",
    "num_cols = num_cols = ['ApplicantIncome', 'CoapplicantIncome', 'LoanAmount', 'Loan_Amount_Term']\n",
    "\n",
    "#printing summary statistics\n",
    "\n",
    "data[num_cols].describe()"
   ]
  },
  {
   "cell_type": "markdown",
   "id": "a7d95e7d",
   "metadata": {
    "papermill": {
     "duration": 0.05776,
     "end_time": "2021-10-29T19:28:14.288697",
     "exception": false,
     "start_time": "2021-10-29T19:28:14.230937",
     "status": "completed"
    },
    "tags": []
   },
   "source": [
    "**Observations:**\n",
    "\n",
    "* The mean applicant income is around $5403.46\n",
    "\n",
    "* The minimum value for applicant income is $150 which is very small and could be an outlier since it is very far from both the mean and the median. \n",
    "\n",
    "* There are a good number of co applicants with no income, as can be observed by thet fact that the 25% quantile of coapplicants have an income of 0. "
   ]
  },
  {
   "cell_type": "markdown",
   "id": "613ecca4",
   "metadata": {
    "papermill": {
     "duration": 0.058367,
     "end_time": "2021-10-29T19:28:14.405127",
     "exception": false,
     "start_time": "2021-10-29T19:28:14.346760",
     "status": "completed"
    },
    "tags": []
   },
   "source": [
    "## Feature Engineering"
   ]
  },
  {
   "cell_type": "code",
   "execution_count": 9,
   "id": "a136003d",
   "metadata": {
    "execution": {
     "iopub.execute_input": "2021-10-29T19:28:14.524956Z",
     "iopub.status.busy": "2021-10-29T19:28:14.524266Z",
     "iopub.status.idle": "2021-10-29T19:28:14.528578Z",
     "shell.execute_reply": "2021-10-29T19:28:14.529137Z",
     "shell.execute_reply.started": "2021-10-29T19:26:18.077121Z"
    },
    "papermill": {
     "duration": 0.066044,
     "end_time": "2021-10-29T19:28:14.529336",
     "exception": false,
     "start_time": "2021-10-29T19:28:14.463292",
     "status": "completed"
    },
    "tags": []
   },
   "outputs": [],
   "source": [
    "#Converting the scale of loan term from months to years\n",
    "data['Loan_Amount_Term']=data['Loan_Amount_Term']/12"
   ]
  },
  {
   "cell_type": "code",
   "execution_count": 10,
   "id": "3e0f9448",
   "metadata": {
    "execution": {
     "iopub.execute_input": "2021-10-29T19:28:14.653775Z",
     "iopub.status.busy": "2021-10-29T19:28:14.653058Z",
     "iopub.status.idle": "2021-10-29T19:28:14.655482Z",
     "shell.execute_reply": "2021-10-29T19:28:14.656108Z",
     "shell.execute_reply.started": "2021-10-29T19:26:18.083594Z"
    },
    "papermill": {
     "duration": 0.068072,
     "end_time": "2021-10-29T19:28:14.656341",
     "exception": false,
     "start_time": "2021-10-29T19:28:14.588269",
     "status": "completed"
    },
    "tags": []
   },
   "outputs": [],
   "source": [
    "#Adding the applicant and co-applicant income to get the total income per application\n",
    "data['total_income']=data['ApplicantIncome'] + data['CoapplicantIncome']"
   ]
  },
  {
   "cell_type": "code",
   "execution_count": 11,
   "id": "177731c9",
   "metadata": {
    "execution": {
     "iopub.execute_input": "2021-10-29T19:28:14.779065Z",
     "iopub.status.busy": "2021-10-29T19:28:14.778395Z",
     "iopub.status.idle": "2021-10-29T19:28:14.783647Z",
     "shell.execute_reply": "2021-10-29T19:28:14.783077Z",
     "shell.execute_reply.started": "2021-10-29T19:26:18.094644Z"
    },
    "papermill": {
     "duration": 0.069222,
     "end_time": "2021-10-29T19:28:14.783822",
     "exception": false,
     "start_time": "2021-10-29T19:28:14.714600",
     "status": "completed"
    },
    "tags": []
   },
   "outputs": [],
   "source": [
    "#Dropping the columns as we created a new column which captures the same information\n",
    "data.drop(columns=['ApplicantIncome', 'CoapplicantIncome'], inplace=True)"
   ]
  },
  {
   "cell_type": "markdown",
   "id": "5a615644",
   "metadata": {
    "papermill": {
     "duration": 0.05851,
     "end_time": "2021-10-29T19:28:14.900638",
     "exception": false,
     "start_time": "2021-10-29T19:28:14.842128",
     "status": "completed"
    },
    "tags": []
   },
   "source": [
    "**Checking the distribution and outliers for each column in the data**"
   ]
  },
  {
   "cell_type": "code",
   "execution_count": 12,
   "id": "8dcee19a",
   "metadata": {
    "execution": {
     "iopub.execute_input": "2021-10-29T19:28:15.047729Z",
     "iopub.status.busy": "2021-10-29T19:28:15.046961Z",
     "iopub.status.idle": "2021-10-29T19:28:15.735423Z",
     "shell.execute_reply": "2021-10-29T19:28:15.735951Z",
     "shell.execute_reply.started": "2021-10-29T19:26:18.107151Z"
    },
    "papermill": {
     "duration": 0.775583,
     "end_time": "2021-10-29T19:28:15.736159",
     "exception": false,
     "start_time": "2021-10-29T19:28:14.960576",
     "status": "completed"
    },
    "tags": []
   },
   "outputs": [
    {
     "name": "stdout",
     "output_type": "stream",
     "text": [
      "LoanAmount\n",
      "Skew : 2.68\n"
     ]
    },
    {
     "data": {
      "image/png": "[encoded data removed]",
      "text/plain": [
       "<Figure size 1080x288 with 2 Axes>"
      ]
     },
     "metadata": {
      "needs_background": "light"
     },
     "output_type": "display_data"
    },
    {
     "name": "stdout",
     "output_type": "stream",
     "text": [
      "total_income\n",
      "Skew : 5.63\n"
     ]
    },
    {
     "data": {
      "image/png": "[encoded data removed]",
      "text/plain": [
       "<Figure size 1080x288 with 2 Axes>"
      ]
     },
     "metadata": {
      "needs_background": "light"
     },
     "output_type": "display_data"
    }
   ],
   "source": [
    "for col in ['LoanAmount', 'total_income']:\n",
    "    print(col)\n",
    "    print('Skew :',round(data[col].skew(),2))\n",
    "    plt.figure(figsize=(15,4))\n",
    "    plt.subplot(1,2,1)\n",
    "    data[col].hist(bins=10, grid=False)\n",
    "    plt.ylabel('count')\n",
    "    plt.subplot(1,2,2)\n",
    "    sns.boxplot(x=data[col])\n",
    "    plt.show()"
   ]
  },
  {
   "cell_type": "markdown",
   "id": "d8b11a5b",
   "metadata": {
    "papermill": {
     "duration": 0.059958,
     "end_time": "2021-10-29T19:28:15.856045",
     "exception": false,
     "start_time": "2021-10-29T19:28:15.796087",
     "status": "completed"
    },
    "tags": []
   },
   "source": [
    "**Observations:**\n",
    "\n",
    "- Both the variables are highly skewed to the right and have many outliers which can be expected as the data contains different types of areas - Rural, Urban & Semi-Urban. \n",
    "- We can observe from the histogram that majority of values for total income are less than 10,000K dollars.\n",
    "\n",
    "Now, let's check the percentage of observations in each category for all the categorical variables."
   ]
  },
  {
   "cell_type": "markdown",
   "id": "bf7c9d49",
   "metadata": {
    "papermill": {
     "duration": 0.060966,
     "end_time": "2021-10-29T19:28:15.976786",
     "exception": false,
     "start_time": "2021-10-29T19:28:15.915820",
     "status": "completed"
    },
    "tags": []
   },
   "source": [
    "### Checking percentage of each category for categorical variables"
   ]
  },
  {
   "cell_type": "code",
   "execution_count": 13,
   "id": "b137f71a",
   "metadata": {
    "execution": {
     "iopub.execute_input": "2021-10-29T19:28:16.103743Z",
     "iopub.status.busy": "2021-10-29T19:28:16.102974Z",
     "iopub.status.idle": "2021-10-29T19:28:16.126374Z",
     "shell.execute_reply": "2021-10-29T19:28:16.126948Z",
     "shell.execute_reply.started": "2021-10-29T19:26:18.755220Z"
    },
    "papermill": {
     "duration": 0.089302,
     "end_time": "2021-10-29T19:28:16.127173",
     "exception": false,
     "start_time": "2021-10-29T19:28:16.037871",
     "status": "completed"
    },
    "tags": []
   },
   "outputs": [
    {
     "name": "stdout",
     "output_type": "stream",
     "text": [
      "Male      0.813644\n",
      "Female    0.186356\n",
      "Name: Gender, dtype: float64\n",
      "****************************************\n",
      "Yes    0.651391\n",
      "No     0.348609\n",
      "Name: Married, dtype: float64\n",
      "****************************************\n",
      "0     0.575960\n",
      "1     0.170284\n",
      "2     0.168614\n",
      "3+    0.085142\n",
      "Name: Dependents, dtype: float64\n",
      "****************************************\n",
      "Graduate        0.781759\n",
      "Not Graduate    0.218241\n",
      "Name: Education, dtype: float64\n",
      "****************************************\n",
      "No     0.859107\n",
      "Yes    0.140893\n",
      "Name: Self_Employed, dtype: float64\n",
      "****************************************\n",
      "1.0    0.842199\n",
      "0.0    0.157801\n",
      "Name: Credit_History, dtype: float64\n",
      "****************************************\n",
      "Semiurban    0.379479\n",
      "Urban        0.328990\n",
      "Rural        0.291531\n",
      "Name: Property_Area, dtype: float64\n",
      "****************************************\n",
      "Y    0.687296\n",
      "N    0.312704\n",
      "Name: Loan_Status, dtype: float64\n",
      "****************************************\n"
     ]
    }
   ],
   "source": [
    "#Creating list of categorical columns\n",
    "cat_col= ['Gender', 'Married', 'Dependents', 'Education', 'Self_Employed', 'Credit_History','Property_Area', 'Loan_Status']\n",
    "\n",
    "for col in cat_col:\n",
    "    print(data[col].value_counts(normalize=True))\n",
    "    print('*'*40)                #Print the * 40 times to separate different variables"
   ]
  },
  {
   "cell_type": "markdown",
   "id": "b7726e41",
   "metadata": {
    "papermill": {
     "duration": 0.059912,
     "end_time": "2021-10-29T19:28:16.247638",
     "exception": false,
     "start_time": "2021-10-29T19:28:16.187726",
     "status": "completed"
    },
    "tags": []
   },
   "source": [
    "**Observations:**\n",
    "\n",
    "* The vast majority of applicants are male (81%). \n",
    "\n",
    "* 65% of applicants are married, and 57% of them have no dependents\n",
    "\n",
    "* 78% of the applicants are graduates\n",
    "\n",
    "* 85% of the applicants are self employed\n",
    "\n",
    "* 84% of the applicants have credit histories that meet the required guidelines\n",
    "\n",
    "* The property area among the applicants is roughly evenly split across semiurban, urban, and rural, with semi-urban having a slightly higher portion (37.9%)"
   ]
  },
  {
   "cell_type": "markdown",
   "id": "bc06e056",
   "metadata": {
    "papermill": {
     "duration": 0.060275,
     "end_time": "2021-10-29T19:28:16.368441",
     "exception": false,
     "start_time": "2021-10-29T19:28:16.308166",
     "status": "completed"
    },
    "tags": []
   },
   "source": [
    "## Imputing missing values"
   ]
  },
  {
   "cell_type": "code",
   "execution_count": 14,
   "id": "099a1dd5",
   "metadata": {
    "execution": {
     "iopub.execute_input": "2021-10-29T19:28:16.492650Z",
     "iopub.status.busy": "2021-10-29T19:28:16.491980Z",
     "iopub.status.idle": "2021-10-29T19:28:16.500858Z",
     "shell.execute_reply": "2021-10-29T19:28:16.501369Z",
     "shell.execute_reply.started": "2021-10-29T19:26:18.783069Z"
    },
    "papermill": {
     "duration": 0.073056,
     "end_time": "2021-10-29T19:28:16.501589",
     "exception": false,
     "start_time": "2021-10-29T19:28:16.428533",
     "status": "completed"
    },
    "tags": []
   },
   "outputs": [],
   "source": [
    "#Imputing missing values with mode for the categorical variables \n",
    "for col in ['Gender', 'Married', 'Dependents', 'Self_Employed', 'Loan_Amount_Term', 'Credit_History']:\n",
    "    data[col].fillna(value=data[col].mode()[0], inplace=True)"
   ]
  },
  {
   "cell_type": "code",
   "execution_count": 15,
   "id": "0106b720",
   "metadata": {
    "execution": {
     "iopub.execute_input": "2021-10-29T19:28:16.630518Z",
     "iopub.status.busy": "2021-10-29T19:28:16.629831Z",
     "iopub.status.idle": "2021-10-29T19:28:16.632593Z",
     "shell.execute_reply": "2021-10-29T19:28:16.632066Z",
     "shell.execute_reply.started": "2021-10-29T19:26:18.795998Z"
    },
    "papermill": {
     "duration": 0.070677,
     "end_time": "2021-10-29T19:28:16.632750",
     "exception": false,
     "start_time": "2021-10-29T19:28:16.562073",
     "status": "completed"
    },
    "tags": []
   },
   "outputs": [],
   "source": [
    "#Replacing 0's with null values in loan amount \n",
    "data.LoanAmount.replace(0, np.nan, inplace=True)\n",
    "\n",
    "#Imputing null values in loan amount with the median\n",
    "data.LoanAmount.fillna(value=data.LoanAmount.median(), inplace=True)"
   ]
  },
  {
   "cell_type": "markdown",
   "id": "961a2ab7",
   "metadata": {
    "papermill": {
     "duration": 0.060365,
     "end_time": "2021-10-29T19:28:16.753789",
     "exception": false,
     "start_time": "2021-10-29T19:28:16.693424",
     "status": "completed"
    },
    "tags": []
   },
   "source": [
    "**Checking for null values**"
   ]
  },
  {
   "cell_type": "code",
   "execution_count": 16,
   "id": "5e378724",
   "metadata": {
    "execution": {
     "iopub.execute_input": "2021-10-29T19:28:16.885679Z",
     "iopub.status.busy": "2021-10-29T19:28:16.884950Z",
     "iopub.status.idle": "2021-10-29T19:28:16.887640Z",
     "shell.execute_reply": "2021-10-29T19:28:16.888130Z",
     "shell.execute_reply.started": "2021-10-29T19:26:18.806721Z"
    },
    "papermill": {
     "duration": 0.073833,
     "end_time": "2021-10-29T19:28:16.888320",
     "exception": false,
     "start_time": "2021-10-29T19:28:16.814487",
     "status": "completed"
    },
    "tags": []
   },
   "outputs": [
    {
     "data": {
      "text/plain": [
       "Gender              0\n",
       "Married             0\n",
       "Dependents          0\n",
       "Education           0\n",
       "Self_Employed       0\n",
       "LoanAmount          0\n",
       "Loan_Amount_Term    0\n",
       "Credit_History      0\n",
       "Property_Area       0\n",
       "Loan_Status         0\n",
       "total_income        0\n",
       "dtype: int64"
      ]
     },
     "execution_count": 16,
     "metadata": {},
     "output_type": "execute_result"
    }
   ],
   "source": [
    "data.isnull().sum()"
   ]
  },
  {
   "cell_type": "markdown",
   "id": "5995d1c2",
   "metadata": {
    "papermill": {
     "duration": 0.062306,
     "end_time": "2021-10-29T19:28:17.011704",
     "exception": false,
     "start_time": "2021-10-29T19:28:16.949398",
     "status": "completed"
    },
    "tags": []
   },
   "source": [
    "**Finally, we need to encode our loan status column to make it eligible for modeling**"
   ]
  },
  {
   "cell_type": "code",
   "execution_count": 17,
   "id": "0b9acd77",
   "metadata": {
    "execution": {
     "iopub.execute_input": "2021-10-29T19:28:17.144216Z",
     "iopub.status.busy": "2021-10-29T19:28:17.143532Z",
     "iopub.status.idle": "2021-10-29T19:28:17.145778Z",
     "shell.execute_reply": "2021-10-29T19:28:17.146397Z",
     "shell.execute_reply.started": "2021-10-29T19:26:18.822650Z"
    },
    "papermill": {
     "duration": 0.072522,
     "end_time": "2021-10-29T19:28:17.146602",
     "exception": false,
     "start_time": "2021-10-29T19:28:17.074080",
     "status": "completed"
    },
    "tags": []
   },
   "outputs": [],
   "source": [
    "data.replace({\"Loan_Status\":{'N':0,'Y':1}},inplace=True) # label encoding"
   ]
  },
  {
   "cell_type": "markdown",
   "id": "31870b03",
   "metadata": {
    "papermill": {
     "duration": 0.060516,
     "end_time": "2021-10-29T19:28:17.268374",
     "exception": false,
     "start_time": "2021-10-29T19:28:17.207858",
     "status": "completed"
    },
    "tags": []
   },
   "source": [
    "**We are now done with data preprocessing**"
   ]
  },
  {
   "cell_type": "markdown",
   "id": "da349dce",
   "metadata": {
    "papermill": {
     "duration": 0.06046,
     "end_time": "2021-10-29T19:28:17.389990",
     "exception": false,
     "start_time": "2021-10-29T19:28:17.329530",
     "status": "completed"
    },
    "tags": []
   },
   "source": [
    "## Bivariate Analysis"
   ]
  },
  {
   "cell_type": "markdown",
   "id": "5a35f6fe",
   "metadata": {
    "papermill": {
     "duration": 0.060498,
     "end_time": "2021-10-29T19:28:17.511588",
     "exception": false,
     "start_time": "2021-10-29T19:28:17.451090",
     "status": "completed"
    },
    "tags": []
   },
   "source": [
    "Let's check the relationship of loan amount with the total income"
   ]
  },
  {
   "cell_type": "code",
   "execution_count": 18,
   "id": "5f4ba27c",
   "metadata": {
    "execution": {
     "iopub.execute_input": "2021-10-29T19:28:17.637103Z",
     "iopub.status.busy": "2021-10-29T19:28:17.636366Z",
     "iopub.status.idle": "2021-10-29T19:28:18.011940Z",
     "shell.execute_reply": "2021-10-29T19:28:18.011283Z",
     "shell.execute_reply.started": "2021-10-29T19:26:18.832722Z"
    },
    "papermill": {
     "duration": 0.439518,
     "end_time": "2021-10-29T19:28:18.012105",
     "exception": false,
     "start_time": "2021-10-29T19:28:17.572587",
     "status": "completed"
    },
    "tags": []
   },
   "outputs": [
    {
     "data": {
      "image/png": "[encoded data removed]",
      "text/plain": [
       "<Figure size 720x432 with 1 Axes>"
      ]
     },
     "metadata": {
      "needs_background": "light"
     },
     "output_type": "display_data"
    }
   ],
   "source": [
    "plt.figure(figsize=(10,6))\n",
    "sns.regplot(x='LoanAmount', y='total_income', data=data)\n",
    "plt.show()"
   ]
  },
  {
   "cell_type": "markdown",
   "id": "9e724f6b",
   "metadata": {
    "papermill": {
     "duration": 0.061743,
     "end_time": "2021-10-29T19:28:18.136216",
     "exception": false,
     "start_time": "2021-10-29T19:28:18.074473",
     "status": "completed"
    },
    "tags": []
   },
   "source": [
    "**Observations:**\n",
    "- The plot shows that the loan amount is positively correlated with total income. This implies that the loan amount for higher-income applicants is progressively higher.\n",
    "- There are some outliers visible, showing applicants with low income having been given loans of a higher amount."
   ]
  },
  {
   "cell_type": "markdown",
   "id": "8fbf36fc",
   "metadata": {
    "papermill": {
     "duration": 0.061894,
     "end_time": "2021-10-29T19:28:18.260597",
     "exception": false,
     "start_time": "2021-10-29T19:28:18.198703",
     "status": "completed"
    },
    "tags": []
   },
   "source": [
    "Let's check the relatioship of total income with loan status"
   ]
  },
  {
   "cell_type": "code",
   "execution_count": 19,
   "id": "d17f519f",
   "metadata": {
    "execution": {
     "iopub.execute_input": "2021-10-29T19:28:18.389293Z",
     "iopub.status.busy": "2021-10-29T19:28:18.388578Z",
     "iopub.status.idle": "2021-10-29T19:28:18.626935Z",
     "shell.execute_reply": "2021-10-29T19:28:18.627483Z",
     "shell.execute_reply.started": "2021-10-29T19:26:19.178652Z"
    },
    "papermill": {
     "duration": 0.304449,
     "end_time": "2021-10-29T19:28:18.627700",
     "exception": false,
     "start_time": "2021-10-29T19:28:18.323251",
     "status": "completed"
    },
    "tags": []
   },
   "outputs": [
    {
     "data": {
      "text/plain": [
       "<AxesSubplot:xlabel='Loan_Status', ylabel='total_income'>"
      ]
     },
     "execution_count": 19,
     "metadata": {},
     "output_type": "execute_result"
    },
    {
     "data": {
      "image/png": "[encoded data removed]",
      "text/plain": [
       "<Figure size 432x288 with 1 Axes>"
      ]
     },
     "metadata": {
      "needs_background": "light"
     },
     "output_type": "display_data"
    }
   ],
   "source": [
    "sns.boxplot(x=data.Loan_Status, y=data.total_income)"
   ]
  },
  {
   "cell_type": "markdown",
   "id": "af1d0b0d",
   "metadata": {
    "papermill": {
     "duration": 0.063231,
     "end_time": "2021-10-29T19:28:18.754597",
     "exception": false,
     "start_time": "2021-10-29T19:28:18.691366",
     "status": "completed"
    },
    "tags": []
   },
   "source": [
    "**Observations:**\n",
    "- Except for some outliers, there is no major difference between the income of those customers who are eligible versus those who are not. \n",
    "- This implies that income alone might not be a good indicator of a customer's loan eligibility."
   ]
  },
  {
   "cell_type": "markdown",
   "id": "2e24755e",
   "metadata": {
    "papermill": {
     "duration": 0.063612,
     "end_time": "2021-10-29T19:28:18.881995",
     "exception": false,
     "start_time": "2021-10-29T19:28:18.818383",
     "status": "completed"
    },
    "tags": []
   },
   "source": [
    "Let's check how credit history is related to loan status"
   ]
  },
  {
   "cell_type": "code",
   "execution_count": 20,
   "id": "2a5b96b0",
   "metadata": {
    "execution": {
     "iopub.execute_input": "2021-10-29T19:28:19.015984Z",
     "iopub.status.busy": "2021-10-29T19:28:19.015235Z",
     "iopub.status.idle": "2021-10-29T19:28:19.247598Z",
     "shell.execute_reply": "2021-10-29T19:28:19.248145Z",
     "shell.execute_reply.started": "2021-10-29T19:26:19.389649Z"
    },
    "papermill": {
     "duration": 0.301945,
     "end_time": "2021-10-29T19:28:19.248342",
     "exception": false,
     "start_time": "2021-10-29T19:28:18.946397",
     "status": "completed"
    },
    "tags": []
   },
   "outputs": [
    {
     "data": {
      "text/plain": [
       "<AxesSubplot:xlabel='Credit_History', ylabel='count'>"
      ]
     },
     "execution_count": 20,
     "metadata": {},
     "output_type": "execute_result"
    },
    {
     "data": {
      "image/png": "[encoded data removed]",
      "text/plain": [
       "<Figure size 432x288 with 1 Axes>"
      ]
     },
     "metadata": {
      "needs_background": "light"
     },
     "output_type": "display_data"
    }
   ],
   "source": [
    "sns.countplot(x=data.Credit_History, hue=data.Loan_Status)"
   ]
  },
  {
   "cell_type": "markdown",
   "id": "e109f948",
   "metadata": {
    "papermill": {
     "duration": 0.063341,
     "end_time": "2021-10-29T19:28:19.376356",
     "exception": false,
     "start_time": "2021-10-29T19:28:19.313015",
     "status": "completed"
    },
    "tags": []
   },
   "source": [
    "**Observations**\n",
    "\n",
    "- The plot shows that credit history is an important factor while checking loan eligibility. There are very few customers whose loan was approved even when their credit history did not meet required guidelines."
   ]
  },
  {
   "cell_type": "markdown",
   "id": "ff35df62",
   "metadata": {
    "papermill": {
     "duration": 0.063702,
     "end_time": "2021-10-29T19:28:19.505096",
     "exception": false,
     "start_time": "2021-10-29T19:28:19.441394",
     "status": "completed"
    },
    "tags": []
   },
   "source": [
    "Let's check the relationship between education and loan status"
   ]
  },
  {
   "cell_type": "code",
   "execution_count": 21,
   "id": "60f4aff9",
   "metadata": {
    "execution": {
     "iopub.execute_input": "2021-10-29T19:28:19.641977Z",
     "iopub.status.busy": "2021-10-29T19:28:19.641250Z",
     "iopub.status.idle": "2021-10-29T19:28:19.870324Z",
     "shell.execute_reply": "2021-10-29T19:28:19.870994Z",
     "shell.execute_reply.started": "2021-10-29T19:26:19.613534Z"
    },
    "papermill": {
     "duration": 0.301899,
     "end_time": "2021-10-29T19:28:19.871198",
     "exception": false,
     "start_time": "2021-10-29T19:28:19.569299",
     "status": "completed"
    },
    "tags": []
   },
   "outputs": [
    {
     "data": {
      "text/plain": [
       "<AxesSubplot:xlabel='Education', ylabel='count'>"
      ]
     },
     "execution_count": 21,
     "metadata": {},
     "output_type": "execute_result"
    },
    {
     "data": {
      "image/png": "[encoded data removed]",
      "text/plain": [
       "<Figure size 432x288 with 1 Axes>"
      ]
     },
     "metadata": {
      "needs_background": "light"
     },
     "output_type": "display_data"
    }
   ],
   "source": [
    "sns.countplot(x=data.Education, hue=data.Loan_Status)"
   ]
  },
  {
   "cell_type": "markdown",
   "id": "c1d75b69",
   "metadata": {
    "papermill": {
     "duration": 0.064907,
     "end_time": "2021-10-29T19:28:20.001522",
     "exception": false,
     "start_time": "2021-10-29T19:28:19.936615",
     "status": "completed"
    },
    "tags": []
   },
   "source": [
    "**Observations:**\n",
    "- We can see that graduate customers are more likely to get loans.\n"
   ]
  },
  {
   "cell_type": "markdown",
   "id": "e47502ad",
   "metadata": {
    "papermill": {
     "duration": 0.064788,
     "end_time": "2021-10-29T19:28:20.132557",
     "exception": false,
     "start_time": "2021-10-29T19:28:20.067769",
     "status": "completed"
    },
    "tags": []
   },
   "source": [
    "Let's check if property area is related with loan status"
   ]
  },
  {
   "cell_type": "code",
   "execution_count": 22,
   "id": "d0e8a5dc",
   "metadata": {
    "execution": {
     "iopub.execute_input": "2021-10-29T19:28:20.266733Z",
     "iopub.status.busy": "2021-10-29T19:28:20.266074Z",
     "iopub.status.idle": "2021-10-29T19:28:20.495250Z",
     "shell.execute_reply": "2021-10-29T19:28:20.494708Z",
     "shell.execute_reply.started": "2021-10-29T19:26:19.827400Z"
    },
    "papermill": {
     "duration": 0.297707,
     "end_time": "2021-10-29T19:28:20.495421",
     "exception": false,
     "start_time": "2021-10-29T19:28:20.197714",
     "status": "completed"
    },
    "tags": []
   },
   "outputs": [
    {
     "data": {
      "text/plain": [
       "<AxesSubplot:xlabel='Property_Area', ylabel='count'>"
      ]
     },
     "execution_count": 22,
     "metadata": {},
     "output_type": "execute_result"
    },
    {
     "data": {
      "image/png": "[encoded data removed]",
      "text/plain": [
       "<Figure size 432x288 with 1 Axes>"
      ]
     },
     "metadata": {
      "needs_background": "light"
     },
     "output_type": "display_data"
    }
   ],
   "source": [
    "sns.countplot(x=data.Property_Area, hue=data.Loan_Status)"
   ]
  },
  {
   "cell_type": "markdown",
   "id": "0cc34333",
   "metadata": {
    "papermill": {
     "duration": 0.06619,
     "end_time": "2021-10-29T19:28:20.628203",
     "exception": false,
     "start_time": "2021-10-29T19:28:20.562013",
     "status": "completed"
    },
    "tags": []
   },
   "source": [
    "**Observations:**\n",
    "\n",
    "- The plot shows that more loans are approved for properties in semi-urban areas. \n",
    "- This could be due to several reasons. The bank might be charging higher interest rates for semi-urban areas or the current customer base of the company from semi-urban areas might actually be more eligible for home loans based on loan applicant features. We cannot be certain as we don't have the data to support this claim.\n",
    "\n",
    "**Now that we have processed and explored our data, let's prepare it for modeling.**"
   ]
  },
  {
   "cell_type": "markdown",
   "id": "1fa89603",
   "metadata": {
    "papermill": {
     "duration": 0.065984,
     "end_time": "2021-10-29T19:28:20.760543",
     "exception": false,
     "start_time": "2021-10-29T19:28:20.694559",
     "status": "completed"
    },
    "tags": []
   },
   "source": [
    "## Preparing data for modeling"
   ]
  },
  {
   "cell_type": "markdown",
   "id": "d7989774",
   "metadata": {
    "papermill": {
     "duration": 0.066213,
     "end_time": "2021-10-29T19:28:20.893054",
     "exception": false,
     "start_time": "2021-10-29T19:28:20.826841",
     "status": "completed"
    },
    "tags": []
   },
   "source": [
    "- Models cannot take non-numeric inputs. So, we will first create dummy variables for all the categorical variables.\n",
    "- We will then split the data into train and test sets."
   ]
  },
  {
   "cell_type": "code",
   "execution_count": 23,
   "id": "5f888444",
   "metadata": {
    "execution": {
     "iopub.execute_input": "2021-10-29T19:28:21.031457Z",
     "iopub.status.busy": "2021-10-29T19:28:21.030380Z",
     "iopub.status.idle": "2021-10-29T19:28:21.037203Z",
     "shell.execute_reply": "2021-10-29T19:28:21.037724Z",
     "shell.execute_reply.started": "2021-10-29T19:26:20.075351Z"
    },
    "papermill": {
     "duration": 0.077573,
     "end_time": "2021-10-29T19:28:21.037941",
     "exception": false,
     "start_time": "2021-10-29T19:28:20.960368",
     "status": "completed"
    },
    "tags": []
   },
   "outputs": [],
   "source": [
    "#Separating target variable and other variables\n",
    "\n",
    "X= data.drop(columns = ['Loan_Status'])\n",
    "Y= data.Loan_Status"
   ]
  },
  {
   "cell_type": "code",
   "execution_count": 24,
   "id": "16ff180b",
   "metadata": {
    "execution": {
     "iopub.execute_input": "2021-10-29T19:28:21.176201Z",
     "iopub.status.busy": "2021-10-29T19:28:21.175390Z",
     "iopub.status.idle": "2021-10-29T19:28:21.187924Z",
     "shell.execute_reply": "2021-10-29T19:28:21.188460Z",
     "shell.execute_reply.started": "2021-10-29T19:26:20.084588Z"
    },
    "papermill": {
     "duration": 0.08306,
     "end_time": "2021-10-29T19:28:21.188711",
     "exception": false,
     "start_time": "2021-10-29T19:28:21.105651",
     "status": "completed"
    },
    "tags": []
   },
   "outputs": [],
   "source": [
    "#Creating dummy variables \n",
    "#drop_first=True is used to avoid redundant variables\n",
    "X = pd.get_dummies(X, drop_first=True)"
   ]
  },
  {
   "cell_type": "code",
   "execution_count": 25,
   "id": "55e9fe69",
   "metadata": {
    "execution": {
     "iopub.execute_input": "2021-10-29T19:28:21.328414Z",
     "iopub.status.busy": "2021-10-29T19:28:21.327744Z",
     "iopub.status.idle": "2021-10-29T19:28:21.333123Z",
     "shell.execute_reply": "2021-10-29T19:28:21.333684Z",
     "shell.execute_reply.started": "2021-10-29T19:26:20.102798Z"
    },
    "papermill": {
     "duration": 0.078677,
     "end_time": "2021-10-29T19:28:21.333881",
     "exception": false,
     "start_time": "2021-10-29T19:28:21.255204",
     "status": "completed"
    },
    "tags": []
   },
   "outputs": [],
   "source": [
    "#Splitting the data into train and test sets\n",
    "X_train,X_test,y_train,y_test=train_test_split(X,Y,test_size=0.30,random_state=1)"
   ]
  },
  {
   "cell_type": "markdown",
   "id": "346b4716",
   "metadata": {
    "papermill": {
     "duration": 0.082409,
     "end_time": "2021-10-29T19:28:21.483060",
     "exception": false,
     "start_time": "2021-10-29T19:28:21.400651",
     "status": "completed"
    },
    "tags": []
   },
   "source": [
    "## Building Classification Models"
   ]
  },
  {
   "cell_type": "markdown",
   "id": "7baf2f06",
   "metadata": {
    "papermill": {
     "duration": 0.065999,
     "end_time": "2021-10-29T19:28:21.625067",
     "exception": false,
     "start_time": "2021-10-29T19:28:21.559068",
     "status": "completed"
    },
    "tags": []
   },
   "source": [
    "**Before training the model, let's choose the appropriate model evaluation criterion as per the problem on hand.**\n",
    "\n",
    "### Model evaluation criterion:\n",
    "\n",
    "#### Since this is a binary classification problem, the model can make wrong predictions in one of two ways:\n",
    "1. Predicting a customer is not eligible for a loan when the customer actually is eligible - Loss of opportunity\n",
    "2. Predicting a customer is eligible for a loan when the customer is actually not - Financial loss\n",
    "\n",
    "#### Which case is more important? \n",
    "* Predicting that the customer is eligible when he is not, because the person might default or not be able to return the loan, which would result in financial loss to the company.\n",
    "\n",
    "#### How to reduce this loss i.e need to reduce False Positives?\n",
    "* In the context of Loan eligibility a False positive means that model incorrectly approves loan for some one who shouldn't be eligible which could lead to financial loss for the customer.One way to minimize precision is by optimizing the models precision.By increasing the precision you can decrease the false positives.However it is important to strike a balance between precision and recall to ensure that the model is not overly conservative and rejects a significant number of eligible applicants(False Negatives).We need to strike the right balance and improve the overall perormance in the loan eligibility prediction.\n"
   ]
  },
  {
   "cell_type": "markdown",
   "id": "9698e672",
   "metadata": {
    "papermill": {
     "duration": 0.065954,
     "end_time": "2021-10-29T19:28:21.757837",
     "exception": false,
     "start_time": "2021-10-29T19:28:21.691883",
     "status": "completed"
    },
    "tags": []
   },
   "source": [
    "Also, let's create a function to calculate and print the classification report and confusion matrix so that we don't have to rewrite the same code repeatedly for each model."
   ]
  },
  {
   "cell_type": "code",
   "execution_count": 26,
   "id": "39518c9f",
   "metadata": {
    "execution": {
     "iopub.execute_input": "2021-10-29T19:28:21.898983Z",
     "iopub.status.busy": "2021-10-29T19:28:21.898240Z",
     "iopub.status.idle": "2021-10-29T19:28:21.899936Z",
     "shell.execute_reply": "2021-10-29T19:28:21.900550Z",
     "shell.execute_reply.started": "2021-10-29T19:26:20.113336Z"
    },
    "papermill": {
     "duration": 0.076395,
     "end_time": "2021-10-29T19:28:21.900737",
     "exception": false,
     "start_time": "2021-10-29T19:28:21.824342",
     "status": "completed"
    },
    "tags": []
   },
   "outputs": [],
   "source": [
    "#function to print classification report and get confusion matrix in a proper format\n",
    "\n",
    "def metrics_score(actual, predicted):\n",
    "    print(classification_report(actual, predicted))\n",
    "    cm = confusion_matrix(actual, predicted)\n",
    "    plt.figure(figsize=(8,5))\n",
    "    sns.heatmap(cm, annot=True,  fmt='.2f', xticklabels=['Not Eligible', 'Eligible'], yticklabels=['Not Eligible', 'Eligible'])\n",
    "    plt.ylabel('Actual')\n",
    "    plt.xlabel('Predicted')\n",
    "    plt.show()"
   ]
  },
  {
   "cell_type": "markdown",
   "id": "c142d3cc",
   "metadata": {
    "papermill": {
     "duration": 0.066276,
     "end_time": "2021-10-29T19:28:22.033421",
     "exception": false,
     "start_time": "2021-10-29T19:28:21.967145",
     "status": "completed"
    },
    "tags": []
   },
   "source": [
    "## Logistic Regression"
   ]
  },
  {
   "cell_type": "code",
   "execution_count": 27,
   "id": "98d30427",
   "metadata": {
    "execution": {
     "iopub.execute_input": "2021-10-29T19:28:22.175033Z",
     "iopub.status.busy": "2021-10-29T19:28:22.174272Z",
     "iopub.status.idle": "2021-10-29T19:28:22.216398Z",
     "shell.execute_reply": "2021-10-29T19:28:22.215850Z",
     "shell.execute_reply.started": "2021-10-29T19:26:20.122314Z"
    },
    "papermill": {
     "duration": 0.113879,
     "end_time": "2021-10-29T19:28:22.216600",
     "exception": false,
     "start_time": "2021-10-29T19:28:22.102721",
     "status": "completed"
    },
    "tags": []
   },
   "outputs": [
    {
     "data": {
      "text/html": [
       "<style>#sk-container-id-1 {color: black;background-color: white;}#sk-container-id-1 pre{padding: 0;}#sk-container-id-1 div.sk-toggleable {background-color: white;}#sk-container-id-1 label.sk-toggleable__label {cursor: pointer;display: block;width: 100%;margin-bottom: 0;padding: 0.3em;box-sizing: border-box;text-align: center;}#sk-container-id-1 label.sk-toggleable__label-arrow:before {content: \"▸\";float: left;margin-right: 0.25em;color: #696969;}#sk-container-id-1 label.sk-toggleable__label-arrow:hover:before {color: black;}#sk-container-id-1 div.sk-estimator:hover label.sk-toggleable__label-arrow:before {color: black;}#sk-container-id-1 div.sk-toggleable__content {max-height: 0;max-width: 0;overflow: hidden;text-align: left;background-color: #f0f8ff;}#sk-container-id-1 div.sk-toggleable__content pre {margin: 0.2em;color: black;border-radius: 0.25em;background-color: #f0f8ff;}#sk-container-id-1 input.sk-toggleable__control:checked~div.sk-toggleable__content {max-height: 200px;max-width: 100%;overflow: auto;}#sk-container-id-1 input.sk-toggleable__control:checked~label.sk-toggleable__label-arrow:before {content: \"▾\";}#sk-container-id-1 div.sk-estimator input.sk-toggleable__control:checked~label.sk-toggleable__label {background-color: #d4ebff;}#sk-container-id-1 div.sk-label input.sk-toggleable__control:checked~label.sk-toggleable__label {background-color: #d4ebff;}#sk-container-id-1 input.sk-hidden--visually {border: 0;clip: rect(1px 1px 1px 1px);clip: rect(1px, 1px, 1px, 1px);height: 1px;margin: -1px;overflow: hidden;padding: 0;position: absolute;width: 1px;}#sk-container-id-1 div.sk-estimator {font-family: monospace;background-color: #f0f8ff;border: 1px dotted black;border-radius: 0.25em;box-sizing: border-box;margin-bottom: 0.5em;}#sk-container-id-1 div.sk-estimator:hover {background-color: #d4ebff;}#sk-container-id-1 div.sk-parallel-item::after {content: \"\";width: 100%;border-bottom: 1px solid gray;flex-grow: 1;}#sk-container-id-1 div.sk-label:hover label.sk-toggleable__label {background-color: #d4ebff;}#sk-container-id-1 div.sk-serial::before {content: \"\";position: absolute;border-left: 1px solid gray;box-sizing: border-box;top: 0;bottom: 0;left: 50%;z-index: 0;}#sk-container-id-1 div.sk-serial {display: flex;flex-direction: column;align-items: center;background-color: white;padding-right: 0.2em;padding-left: 0.2em;position: relative;}#sk-container-id-1 div.sk-item {position: relative;z-index: 1;}#sk-container-id-1 div.sk-parallel {display: flex;align-items: stretch;justify-content: center;background-color: white;position: relative;}#sk-container-id-1 div.sk-item::before, #sk-container-id-1 div.sk-parallel-item::before {content: \"\";position: absolute;border-left: 1px solid gray;box-sizing: border-box;top: 0;bottom: 0;left: 50%;z-index: -1;}#sk-container-id-1 div.sk-parallel-item {display: flex;flex-direction: column;z-index: 1;position: relative;background-color: white;}#sk-container-id-1 div.sk-parallel-item:first-child::after {align-self: flex-end;width: 50%;}#sk-container-id-1 div.sk-parallel-item:last-child::after {align-self: flex-start;width: 50%;}#sk-container-id-1 div.sk-parallel-item:only-child::after {width: 0;}#sk-container-id-1 div.sk-dashed-wrapped {border: 1px dashed gray;margin: 0 0.4em 0.5em 0.4em;box-sizing: border-box;padding-bottom: 0.4em;background-color: white;}#sk-container-id-1 div.sk-label label {font-family: monospace;font-weight: bold;display: inline-block;line-height: 1.2em;}#sk-container-id-1 div.sk-label-container {text-align: center;}#sk-container-id-1 div.sk-container {/* jupyter's `normalize.less` sets `[hidden] { display: none; }` but bootstrap.min.css set `[hidden] { display: none !important; }` so we also need the `!important` here to be able to override the default hidden behavior on the sphinx rendered scikit-learn.org. See: https://github.com/scikit-learn/scikit-learn/issues/21755 */display: inline-block !important;position: relative;}#sk-container-id-1 div.sk-text-repr-fallback {display: none;}</style><div id=\"sk-container-id-1\" class=\"sk-top-container\"><div class=\"sk-text-repr-fallback\"><pre>LogisticRegression(random_state=1)</pre><b>In a Jupyter environment, please rerun this cell to show the HTML representation or trust the notebook. <br />On GitHub, the HTML representation is unable to render, please try loading this page with nbviewer.org.</b></div><div class=\"sk-container\" hidden><div class=\"sk-item\"><div class=\"sk-estimator sk-toggleable\"><input class=\"sk-toggleable__control sk-hidden--visually\" id=\"sk-estimator-id-1\" type=\"checkbox\" checked><label for=\"sk-estimator-id-1\" class=\"sk-toggleable__label sk-toggleable__label-arrow\">LogisticRegression</label><div class=\"sk-toggleable__content\"><pre>LogisticRegression(random_state=1)</pre></div></div></div></div></div>"
      ],
      "text/plain": [
       "LogisticRegression(random_state=1)"
      ]
     },
     "execution_count": 27,
     "metadata": {},
     "output_type": "execute_result"
    }
   ],
   "source": [
    "#define logistic regression model \n",
    "log_reg= LogisticRegression(random_state = 1)\n",
    "\n",
    "#fit the model\n",
    "log_reg.fit(X_train,y_train)"
   ]
  },
  {
   "cell_type": "markdown",
   "id": "8b23a810",
   "metadata": {
    "papermill": {
     "duration": 0.067021,
     "end_time": "2021-10-29T19:28:22.350413",
     "exception": false,
     "start_time": "2021-10-29T19:28:22.283392",
     "status": "completed"
    },
    "tags": []
   },
   "source": [
    "**Let's check the coefficient of each dependent variable in the data**"
   ]
  },
  {
   "cell_type": "code",
   "execution_count": 28,
   "id": "6a8b9d7e",
   "metadata": {
    "execution": {
     "iopub.execute_input": "2021-10-29T19:28:22.488284Z",
     "iopub.status.busy": "2021-10-29T19:28:22.487603Z",
     "iopub.status.idle": "2021-10-29T19:28:22.495775Z",
     "shell.execute_reply": "2021-10-29T19:28:22.496372Z",
     "shell.execute_reply.started": "2021-10-29T19:26:20.168454Z"
    },
    "papermill": {
     "duration": 0.07934,
     "end_time": "2021-10-29T19:28:22.496604",
     "exception": false,
     "start_time": "2021-10-29T19:28:22.417264",
     "status": "completed"
    },
    "tags": []
   },
   "outputs": [
    {
     "data": {
      "text/plain": [
       "Credit_History             3.160963\n",
       "Property_Area_Semiurban    0.682570\n",
       "Dependents_3+              0.405391\n",
       "Married_Yes                0.346768\n",
       "Dependents_2               0.146093\n",
       "total_income              -0.000012\n",
       "LoanAmount                -0.000442\n",
       "Property_Area_Urban       -0.004817\n",
       "Loan_Amount_Term          -0.061630\n",
       "Self_Employed_Yes         -0.113987\n",
       "Gender_Male               -0.200656\n",
       "Dependents_1              -0.246792\n",
       "Education_Not Graduate    -0.368435\n",
       "dtype: float64"
      ]
     },
     "execution_count": 28,
     "metadata": {},
     "output_type": "execute_result"
    }
   ],
   "source": [
    "pd.Series(log_reg.coef_[0], index=X_train.columns).sort_values(ascending=False)"
   ]
  },
  {
   "cell_type": "markdown",
   "id": "a4c167cb",
   "metadata": {
    "papermill": {
     "duration": 0.067261,
     "end_time": "2021-10-29T19:28:22.631649",
     "exception": false,
     "start_time": "2021-10-29T19:28:22.564388",
     "status": "completed"
    },
    "tags": []
   },
   "source": [
    "**Let's now find the odds calculated from the logistic regression model coefficients**"
   ]
  },
  {
   "cell_type": "code",
   "execution_count": 29,
   "id": "339aab3f",
   "metadata": {
    "execution": {
     "iopub.execute_input": "2021-10-29T19:28:22.779595Z",
     "iopub.status.busy": "2021-10-29T19:28:22.778815Z",
     "iopub.status.idle": "2021-10-29T19:28:22.781748Z",
     "shell.execute_reply": "2021-10-29T19:28:22.782241Z",
     "shell.execute_reply.started": "2021-10-29T19:26:20.177146Z"
    },
    "papermill": {
     "duration": 0.082804,
     "end_time": "2021-10-29T19:28:22.782443",
     "exception": false,
     "start_time": "2021-10-29T19:28:22.699639",
     "status": "completed"
    },
    "tags": []
   },
   "outputs": [
    {
     "data": {
      "text/html": [
       "<div>\n",
       "<style scoped>\n",
       "    .dataframe tbody tr th:only-of-type {\n",
       "        vertical-align: middle;\n",
       "    }\n",
       "\n",
       "    .dataframe tbody tr th {\n",
       "        vertical-align: top;\n",
       "    }\n",
       "\n",
       "    .dataframe thead th {\n",
       "        text-align: right;\n",
       "    }\n",
       "</style>\n",
       "<table border=\"1\" class=\"dataframe\">\n",
       "  <thead>\n",
       "    <tr style=\"text-align: right;\">\n",
       "      <th></th>\n",
       "      <th>odds</th>\n",
       "    </tr>\n",
       "  </thead>\n",
       "  <tbody>\n",
       "    <tr>\n",
       "      <th>Credit_History</th>\n",
       "      <td>23.593299</td>\n",
       "    </tr>\n",
       "    <tr>\n",
       "      <th>Property_Area_Semiurban</th>\n",
       "      <td>1.978958</td>\n",
       "    </tr>\n",
       "    <tr>\n",
       "      <th>Dependents_3+</th>\n",
       "      <td>1.499889</td>\n",
       "    </tr>\n",
       "    <tr>\n",
       "      <th>Married_Yes</th>\n",
       "      <td>1.414489</td>\n",
       "    </tr>\n",
       "    <tr>\n",
       "      <th>Dependents_2</th>\n",
       "      <td>1.157304</td>\n",
       "    </tr>\n",
       "    <tr>\n",
       "      <th>total_income</th>\n",
       "      <td>0.999988</td>\n",
       "    </tr>\n",
       "    <tr>\n",
       "      <th>LoanAmount</th>\n",
       "      <td>0.999558</td>\n",
       "    </tr>\n",
       "    <tr>\n",
       "      <th>Property_Area_Urban</th>\n",
       "      <td>0.995194</td>\n",
       "    </tr>\n",
       "    <tr>\n",
       "      <th>Loan_Amount_Term</th>\n",
       "      <td>0.940231</td>\n",
       "    </tr>\n",
       "    <tr>\n",
       "      <th>Self_Employed_Yes</th>\n",
       "      <td>0.892269</td>\n",
       "    </tr>\n",
       "    <tr>\n",
       "      <th>Gender_Male</th>\n",
       "      <td>0.818194</td>\n",
       "    </tr>\n",
       "    <tr>\n",
       "      <th>Dependents_1</th>\n",
       "      <td>0.781303</td>\n",
       "    </tr>\n",
       "    <tr>\n",
       "      <th>Education_Not Graduate</th>\n",
       "      <td>0.691816</td>\n",
       "    </tr>\n",
       "  </tbody>\n",
       "</table>\n",
       "</div>"
      ],
      "text/plain": [
       "                              odds\n",
       "Credit_History           23.593299\n",
       "Property_Area_Semiurban   1.978958\n",
       "Dependents_3+             1.499889\n",
       "Married_Yes               1.414489\n",
       "Dependents_2              1.157304\n",
       "total_income              0.999988\n",
       "LoanAmount                0.999558\n",
       "Property_Area_Urban       0.995194\n",
       "Loan_Amount_Term          0.940231\n",
       "Self_Employed_Yes         0.892269\n",
       "Gender_Male               0.818194\n",
       "Dependents_1              0.781303\n",
       "Education_Not Graduate    0.691816"
      ]
     },
     "execution_count": 29,
     "metadata": {},
     "output_type": "execute_result"
    }
   ],
   "source": [
    " #finding the odds\n",
    "odds = np.exp(log_reg.coef_[0])\n",
    "#adding the odds to a dataframe and sorting the values\n",
    "pd.DataFrame(odds, X_train.columns, columns=['odds']).sort_values(by='odds', ascending=False) "
   ]
  },
  {
   "cell_type": "markdown",
   "id": "8ed64b73",
   "metadata": {},
   "source": [
    "The odds ratios associated with class 0 (e.g., odds = np.exp(log_reg.coef_[0])) represent the multiplicative change in the odds of being \"Not Eligible\" for a one-unit\n",
    "increase in the corresponding feature.If the resulting odds ratio is greater than 1, it indicates that for every one-unit increase in the Propert area, the odds of being \"Not Eligible\" increase by that factor. For example, if the odds ratio is 1.97, it means that a one-unit increase in the loan amount  almost doubles the odds of being \"Not Eligible.\"\n",
    "\n",
    "On the other hand, if the odds ratio is less than 1, it indicates a decrease in the odds of being \"Not Eligible\" for a one-unit increase in the loan amount. For example, if the odds ratio is 0.69, it means that a one-unit increase in the loan amount reduces the odds of being \"Not Eligible\" by half."
   ]
  },
  {
   "cell_type": "markdown",
   "id": "264b3c6e",
   "metadata": {
    "papermill": {
     "duration": 0.067891,
     "end_time": "2021-10-29T19:28:22.918979",
     "exception": false,
     "start_time": "2021-10-29T19:28:22.851088",
     "status": "completed"
    },
    "tags": []
   },
   "source": [
    "**Observations:**\n",
    "\n",
    "* The odds of an applicant's loan application being approved is around 20 times higher for a person who meets the loan approval requirements compared to someone who doesn't\n",
    "\n",
    "* The odds of an applicant's loan application being approved is over double if he is married compared to someone who is not. \n",
    "\n"
   ]
  },
  {
   "cell_type": "markdown",
   "id": "25875276",
   "metadata": {
    "papermill": {
     "duration": 0.069584,
     "end_time": "2021-10-29T19:28:23.057255",
     "exception": false,
     "start_time": "2021-10-29T19:28:22.987671",
     "status": "completed"
    },
    "tags": []
   },
   "source": [
    "**Now, let's check the performance of the model on the training set**"
   ]
  },
  {
   "cell_type": "code",
   "execution_count": 30,
   "id": "f868f7b4",
   "metadata": {
    "execution": {
     "iopub.execute_input": "2021-10-29T19:28:23.198062Z",
     "iopub.status.busy": "2021-10-29T19:28:23.197254Z",
     "iopub.status.idle": "2021-10-29T19:28:23.399251Z",
     "shell.execute_reply": "2021-10-29T19:28:23.400210Z",
     "shell.execute_reply.started": "2021-10-29T19:26:20.191608Z"
    },
    "papermill": {
     "duration": 0.274798,
     "end_time": "2021-10-29T19:28:23.400430",
     "exception": false,
     "start_time": "2021-10-29T19:28:23.125632",
     "status": "completed"
    },
    "tags": []
   },
   "outputs": [
    {
     "name": "stdout",
     "output_type": "stream",
     "text": [
      "              precision    recall  f1-score   support\n",
      "\n",
      "           0       0.91      0.44      0.59       131\n",
      "           1       0.80      0.98      0.88       298\n",
      "\n",
      "    accuracy                           0.82       429\n",
      "   macro avg       0.85      0.71      0.74       429\n",
      "weighted avg       0.83      0.82      0.79       429\n",
      "\n"
     ]
    },
    {
     "data": {
      "image/png": "[encoded data removed]",
      "text/plain": [
       "<Figure size 576x360 with 2 Axes>"
      ]
     },
     "metadata": {
      "needs_background": "light"
     },
     "output_type": "display_data"
    }
   ],
   "source": [
    "#predict on the training data \n",
    "y_pred_train = log_reg.predict(X_train) #Write your code here\n",
    "\n",
    "# Checking performance on the training data\n",
    "metrics_score(y_train, y_pred_train)"
   ]
  },
  {
   "cell_type": "code",
   "execution_count": 31,
   "id": "e4b9eb85",
   "metadata": {},
   "outputs": [
    {
     "data": {
      "text/plain": [
       "0.711306931707567"
      ]
     },
     "execution_count": 31,
     "metadata": {},
     "output_type": "execute_result"
    }
   ],
   "source": [
    "from sklearn.metrics import roc_auc_score\n",
    "AUROC = roc_auc_score(y_train, y_pred_train)\n",
    "AUROC"
   ]
  },
  {
   "cell_type": "markdown",
   "id": "1742a736",
   "metadata": {
    "papermill": {
     "duration": 0.067823,
     "end_time": "2021-10-29T19:28:23.536651",
     "exception": false,
     "start_time": "2021-10-29T19:28:23.468828",
     "status": "completed"
    },
    "tags": []
   },
   "source": [
    "**Reading confusion matrix (clockwise):**\n",
    "\n",
    "- **True Positive**: Predicting the customer is eligible and the customer is actually eligible\n",
    "- **False Negative**: Predicting the customer is  not eligible but the customer is actually eligible\n",
    "- **True Negative**: Predicting the customer is not  eligible and the customer is actually not eligible\n",
    "- **False Positive**: Predicting the customer is eligible but the customer is actually not  eligible"
   ]
  },
  {
   "cell_type": "markdown",
   "id": "aaab44fa",
   "metadata": {
    "papermill": {
     "duration": 0.069604,
     "end_time": "2021-10-29T19:28:23.673932",
     "exception": false,
     "start_time": "2021-10-29T19:28:23.604328",
     "status": "completed"
    },
    "tags": []
   },
   "source": [
    "**Observations:**\n",
    "\n",
    "* We see around 82% accuracy on our training set.\n",
    "\n",
    "* The recall score is only 44% for class 0 which is low, considering we want to get a strong recall value for our specific problem. Thus, this model will not perform well for us. "
   ]
  },
  {
   "cell_type": "markdown",
   "id": "cbbbddce",
   "metadata": {
    "papermill": {
     "duration": 0.068701,
     "end_time": "2021-10-29T19:28:23.811662",
     "exception": false,
     "start_time": "2021-10-29T19:28:23.742961",
     "status": "completed"
    },
    "tags": []
   },
   "source": [
    "**Precision-Recall curve for Logistic Regression**"
   ]
  },
  {
   "cell_type": "code",
   "execution_count": 32,
   "id": "5b8d45f9",
   "metadata": {
    "execution": {
     "iopub.execute_input": "2021-10-29T19:28:23.954048Z",
     "iopub.status.busy": "2021-10-29T19:28:23.953302Z",
     "iopub.status.idle": "2021-10-29T19:28:24.192002Z",
     "shell.execute_reply": "2021-10-29T19:28:24.191267Z",
     "shell.execute_reply.started": "2021-10-29T19:26:20.441743Z"
    },
    "papermill": {
     "duration": 0.311288,
     "end_time": "2021-10-29T19:28:24.192168",
     "exception": false,
     "start_time": "2021-10-29T19:28:23.880880",
     "status": "completed"
    },
    "tags": []
   },
   "outputs": [
    {
     "data": {
      "image/png": "[encoded data removed]",
      "text/plain": [
       "<Figure size 720x504 with 1 Axes>"
      ]
     },
     "metadata": {
      "needs_background": "light"
     },
     "output_type": "display_data"
    }
   ],
   "source": [
    "y_scores=log_reg.predict_proba(X_train) #predict_proba gives the probability of each observation belonging to each class\n",
    "\n",
    "\n",
    "precisions, recalls, thresholds = precision_recall_curve(y_train, y_scores[:,1])\n",
    "\n",
    "#Plotting values of precisions, recalls, and thresholds\n",
    "plt.figure(figsize=(10,7))\n",
    "plt.plot(thresholds, precisions[:-1], 'b--', label='precision')\n",
    "plt.plot(thresholds, recalls[:-1], 'g--', label = 'recall')\n",
    "plt.xlabel('Threshold')\n",
    "plt.legend(loc='upper left')\n",
    "plt.ylim([0,1])\n",
    "plt.show()"
   ]
  },
  {
   "cell_type": "markdown",
   "id": "0affc353",
   "metadata": {
    "papermill": {
     "duration": 0.072331,
     "end_time": "2021-10-29T19:28:24.336558",
     "exception": false,
     "start_time": "2021-10-29T19:28:24.264227",
     "status": "completed"
    },
    "tags": []
   },
   "source": [
    "**Observations:**\n",
    "- We can see that precision and recall are balanced for threshold of about 0.7.\n",
    "- Let's try to calculate the exact threshold where precision and recall are equal."
   ]
  },
  {
   "cell_type": "code",
   "execution_count": 33,
   "id": "0261028d",
   "metadata": {
    "execution": {
     "iopub.execute_input": "2021-10-29T19:28:24.481253Z",
     "iopub.status.busy": "2021-10-29T19:28:24.480587Z",
     "iopub.status.idle": "2021-10-29T19:28:24.485944Z",
     "shell.execute_reply": "2021-10-29T19:28:24.486474Z",
     "shell.execute_reply.started": "2021-10-29T19:26:20.658494Z"
    },
    "papermill": {
     "duration": 0.079156,
     "end_time": "2021-10-29T19:28:24.486707",
     "exception": false,
     "start_time": "2021-10-29T19:28:24.407551",
     "status": "completed"
    },
    "tags": []
   },
   "outputs": [
    {
     "name": "stdout",
     "output_type": "stream",
     "text": [
      "0.7168397981410463\n"
     ]
    }
   ],
   "source": [
    "#calculating the exact threshold where precision and recall are equal.\n",
    "for i in np.arange(len(thresholds)):\n",
    "    if precisions[i]==recalls[i]:\n",
    "        print(thresholds[i])"
   ]
  },
  {
   "cell_type": "markdown",
   "id": "1c74667f",
   "metadata": {
    "papermill": {
     "duration": 0.070747,
     "end_time": "2021-10-29T19:28:24.627947",
     "exception": false,
     "start_time": "2021-10-29T19:28:24.557200",
     "status": "completed"
    },
    "tags": []
   },
   "source": [
    "- The threshold of 0.72 would give a balanced precision and recall.\n",
    "- Higher the treshhold the FP would decrease , but it might be at the cost of increase in FN.\n",
    "- **This decision depends on the stakeholders and other business driven factors.** For example, if the company can bear the cost of some false negatives and be more conservative while approving loans then we can choose for the precision to be higher.\n",
    "- Let's choose the threshholdto be 0.75 for the current scenario, since we have mentioned that the company wants to optimize precision.\n"
   ]
  },
  {
   "cell_type": "markdown",
   "id": "7374566e",
   "metadata": {
    "papermill": {
     "duration": 0.07102,
     "end_time": "2021-10-29T19:28:24.770069",
     "exception": false,
     "start_time": "2021-10-29T19:28:24.699049",
     "status": "completed"
    },
    "tags": []
   },
   "source": [
    "**So let's compare the performance of the model on the training and testing sets after changing the threshold**"
   ]
  },
  {
   "cell_type": "code",
   "execution_count": 37,
   "id": "5734cb1d",
   "metadata": {
    "execution": {
     "iopub.execute_input": "2021-10-29T19:28:24.915658Z",
     "iopub.status.busy": "2021-10-29T19:28:24.915006Z",
     "iopub.status.idle": "2021-10-29T19:28:25.201694Z",
     "shell.execute_reply": "2021-10-29T19:28:25.201040Z",
     "shell.execute_reply.started": "2021-10-29T19:26:20.667106Z"
    },
    "papermill": {
     "duration": 0.361332,
     "end_time": "2021-10-29T19:28:25.201872",
     "exception": false,
     "start_time": "2021-10-29T19:28:24.840540",
     "status": "completed"
    },
    "tags": []
   },
   "outputs": [
    {
     "name": "stdout",
     "output_type": "stream",
     "text": [
      "              precision    recall  f1-score   support\n",
      "\n",
      "           0       0.54      0.73      0.62       131\n",
      "           1       0.86      0.72      0.79       298\n",
      "\n",
      "    accuracy                           0.72       429\n",
      "   macro avg       0.70      0.73      0.70       429\n",
      "weighted avg       0.76      0.72      0.73       429\n",
      "\n"
     ]
    },
    {
     "data": {
      "image/png": "[encoded data removed]",
      "text/plain": [
       "<Figure size 576x360 with 2 Axes>"
      ]
     },
     "metadata": {
      "needs_background": "light"
     },
     "output_type": "display_data"
    }
   ],
   "source": [
    "optimal_threshold1 = 0.75\n",
    "metrics_score(y_train, y_scores[:,1]>optimal_threshold1)"
   ]
  },
  {
   "cell_type": "code",
   "execution_count": 40,
   "id": "69a249cf",
   "metadata": {
    "execution": {
     "iopub.execute_input": "2021-10-29T19:28:25.352718Z",
     "iopub.status.busy": "2021-10-29T19:28:25.352003Z",
     "iopub.status.idle": "2021-10-29T19:28:25.618232Z",
     "shell.execute_reply": "2021-10-29T19:28:25.617620Z",
     "shell.execute_reply.started": "2021-10-29T19:26:20.924331Z"
    },
    "papermill": {
     "duration": 0.344212,
     "end_time": "2021-10-29T19:28:25.618393",
     "exception": false,
     "start_time": "2021-10-29T19:28:25.274181",
     "status": "completed"
    },
    "tags": []
   },
   "outputs": [
    {
     "name": "stdout",
     "output_type": "stream",
     "text": [
      "              precision    recall  f1-score   support\n",
      "\n",
      "           0       0.54      0.64      0.59        61\n",
      "           1       0.81      0.73      0.77       124\n",
      "\n",
      "    accuracy                           0.70       185\n",
      "   macro avg       0.67      0.69      0.68       185\n",
      "weighted avg       0.72      0.70      0.71       185\n",
      "\n"
     ]
    },
    {
     "data": {
      "image/png": "[encoded data removed]",
      "text/plain": [
       "<Figure size 576x360 with 2 Axes>"
      ]
     },
     "metadata": {
      "needs_background": "light"
     },
     "output_type": "display_data"
    }
   ],
   "source": [
    "#Checking performance on the testing data\n",
    "y_pred_test = log_reg.predict_proba(X_test)\n",
    "metrics_score(y_test, y_pred_test[:,1]>optimal_threshold1)\n"
   ]
  },
  {
   "cell_type": "code",
   "execution_count": 43,
   "id": "9b9dc299",
   "metadata": {},
   "outputs": [
    {
     "data": {
      "text/plain": [
       "0.7485457429931254"
      ]
     },
     "execution_count": 43,
     "metadata": {},
     "output_type": "execute_result"
    }
   ],
   "source": [
    "AUROC = roc_auc_score(y_test, y_pred_test[:,1])\n",
    "AUROC"
   ]
  },
  {
   "cell_type": "markdown",
   "id": "2446d2a1",
   "metadata": {
    "papermill": {
     "duration": 0.074481,
     "end_time": "2021-10-29T19:28:25.766209",
     "exception": false,
     "start_time": "2021-10-29T19:28:25.691728",
     "status": "completed"
    },
    "tags": []
   },
   "source": [
    "**Observations:**\n",
    "\n",
    "* We can see that we got AUROC as 0.74, and we could optimise both preciison and recall\n",
    "* Similar performance on both the training data and the test data"
   ]
  },
  {
   "cell_type": "markdown",
   "id": "69a90fa4",
   "metadata": {
    "papermill": {
     "duration": 0.074473,
     "end_time": "2021-10-29T19:28:25.915580",
     "exception": false,
     "start_time": "2021-10-29T19:28:25.841107",
     "status": "completed"
    },
    "tags": []
   },
   "source": [
    "### K - Nearest Neighbors (KNN)"
   ]
  },
  {
   "cell_type": "markdown",
   "id": "a454a3a9",
   "metadata": {
    "papermill": {
     "duration": 0.072896,
     "end_time": "2021-10-29T19:28:26.061953",
     "exception": false,
     "start_time": "2021-10-29T19:28:25.989057",
     "status": "completed"
    },
    "tags": []
   },
   "source": [
    "- KNN is a distance based algorithm and all distance based algorithms are affected by the scale of the data.\n",
    "- We will scale the attributes (dataframe X defined above) before building the KNN model.\n",
    "\n",
    "**But before actually building the model, we need to identify the value of K to be used in KNN. We will perform the following steps for the same.**\n",
    "\n",
    "- For every value of K (from 1 to 20), we split the train set into new train and validation set (30 times)\n",
    "- We scale the training data and validation data\n",
    "- We take the average of the error on these train and the validation sets for each K\n",
    "- We plot the average train vs the validation set error for all Ks \n",
    "- Finally, we choose a suitable K from the plot where the two errors are comparable"
   ]
  },
  {
   "cell_type": "code",
   "execution_count": 33,
   "id": "dca20c9a",
   "metadata": {
    "execution": {
     "iopub.execute_input": "2021-10-29T19:28:26.217976Z",
     "iopub.status.busy": "2021-10-29T19:28:26.217209Z",
     "iopub.status.idle": "2021-10-29T19:28:43.466667Z",
     "shell.execute_reply": "2021-10-29T19:28:43.467679Z",
     "shell.execute_reply.started": "2021-10-29T19:26:21.160079Z"
    },
    "papermill": {
     "duration": 17.329612,
     "end_time": "2021-10-29T19:28:43.468078",
     "exception": false,
     "start_time": "2021-10-29T19:28:26.138466",
     "status": "completed"
    },
    "tags": []
   },
   "outputs": [
    {
     "data": {
      "text/plain": [
       "{1: [0.0, 0.2856589147286821],\n",
       " 2: [0.11409135082604469, 0.3453488372093023],\n",
       " 3: [0.15889212827988336, 0.24612403100775188],\n",
       " 4: [0.1634596695821186, 0.2682170542635659],\n",
       " 5: [0.18513119533527694, 0.21821705426356588],\n",
       " 6: [0.1862973760932945, 0.23255813953488372],\n",
       " 7: [0.19591836734693882, 0.20348837209302334],\n",
       " 8: [0.19426627793974735, 0.22054263565891483],\n",
       " 9: [0.20038872691933915, 0.21046511627906986],\n",
       " 10: [0.1936831875607386, 0.22790697674418595],\n",
       " 11: [0.2013605442176871, 0.21589147286821703],\n",
       " 12: [0.19659863945578232, 0.21240310077519378],\n",
       " 13: [0.203692905733722, 0.20930232558139542],\n",
       " 14: [0.192614188532556, 0.2220930232558139],\n",
       " 15: [0.19815354713313899, 0.21395348837209308],\n",
       " 16: [0.1932944606413994, 0.210077519379845],\n",
       " 17: [0.20058309037900873, 0.21007751937984492],\n",
       " 18: [0.19708454810495632, 0.21124031007751945],\n",
       " 19: [0.20068027210884357, 0.20813953488372097],\n",
       " 20: [0.19757045675413026, 0.20891472868217056]}"
      ]
     },
     "execution_count": 33,
     "metadata": {},
     "output_type": "execute_result"
    }
   ],
   "source": [
    "knn = KNeighborsClassifier()\n",
    "ss = StandardScaler()\n",
    "\n",
    "# We select the best value of k for which the error rate is the least in the validation data\n",
    "# Let us loop over a few values of the k to determine the best k\n",
    "\n",
    "train_error = []\n",
    "test_error = []\n",
    "knn_many_split = {}\n",
    "\n",
    "error_df_knn = pd.DataFrame()\n",
    "features = X.columns\n",
    "\n",
    "for k in range(1,21):\n",
    "    train_error = []\n",
    "    test_error = []\n",
    "    lista = []\n",
    "    knn = KNeighborsClassifier(n_neighbors=k)\n",
    "    for i in range(30):\n",
    "        x_train_new, x_val, y_train_new, y_val = train_test_split(X_train, y_train, test_size = 0.20)\n",
    "    \n",
    "        #let us scale the data\n",
    "        x_train_new = ss.fit_transform(x_train_new)  #fit_transform the training data\n",
    "        x_val = ss.transform(x_val) #transform the validation set\n",
    "        #Fitting knn on training data\n",
    "        knn.fit(x_train_new, y_train_new)\n",
    "        #Calculating error on training and validation data\n",
    "        train_error.append(1 - knn.score(x_train_new, y_train_new)) \n",
    "        test_error.append(1 - knn.score(x_val, y_val))\n",
    "    lista.append(sum(train_error)/len(train_error))\n",
    "    lista.append(sum(test_error)/len(test_error))\n",
    "    knn_many_split[k] = lista\n",
    "\n",
    "knn_many_split"
   ]
  },
  {
   "cell_type": "code",
   "execution_count": 34,
   "id": "18fd7f48",
   "metadata": {
    "execution": {
     "iopub.execute_input": "2021-10-29T19:28:43.639955Z",
     "iopub.status.busy": "2021-10-29T19:28:43.634792Z",
     "iopub.status.idle": "2021-10-29T19:28:43.884785Z",
     "shell.execute_reply": "2021-10-29T19:28:43.885273Z",
     "shell.execute_reply.started": "2021-10-29T19:26:35.059969Z"
    },
    "papermill": {
     "duration": 0.328555,
     "end_time": "2021-10-29T19:28:43.885523",
     "exception": false,
     "start_time": "2021-10-29T19:28:43.556968",
     "status": "completed"
    },
    "tags": []
   },
   "outputs": [
    {
     "data": {
      "image/png": "[encoded data removed]",
      "text/plain": [
       "<Figure size 720x432 with 1 Axes>"
      ]
     },
     "metadata": {
      "needs_background": "light"
     },
     "output_type": "display_data"
    }
   ],
   "source": [
    "# Extracting the train and the test error for each k in a list for easy plotting\n",
    "\n",
    "kltest = []\n",
    "vltest = []\n",
    "for k, v in knn_many_split.items():\n",
    "    kltest.append(k)\n",
    "    vltest.append(knn_many_split[k][1])\n",
    "\n",
    "kltrain = []\n",
    "vltrain = []\n",
    "\n",
    "for k, v in knn_many_split.items():\n",
    "    kltrain.append(k)\n",
    "    vltrain.append(knn_many_split[k][0])\n",
    "\n",
    "# Plotting k vs error \n",
    "plt.figure(figsize=(10,6))\n",
    "plt.plot(kltest,vltest, label = 'test' )\n",
    "plt.plot(kltrain,vltrain, label = 'train')\n",
    "plt.legend()\n",
    "plt.show()"
   ]
  },
  {
   "cell_type": "markdown",
   "id": "77882843",
   "metadata": {
    "papermill": {
     "duration": 0.076371,
     "end_time": "2021-10-29T19:28:44.036032",
     "exception": false,
     "start_time": "2021-10-29T19:28:43.959661",
     "status": "completed"
    },
    "tags": []
   },
   "source": [
    "**Observations:**\n",
    "- We can see that the train error and the test error are more or less similar for K more than or equal to 7.\n",
    "- This implies that we would get generalized results if we choose K=7.\n",
    "- So, let's scale the full data and fit the model on the entire training set. "
   ]
  },
  {
   "cell_type": "code",
   "execution_count": 35,
   "id": "079ba33b",
   "metadata": {
    "execution": {
     "iopub.execute_input": "2021-10-29T19:28:44.191820Z",
     "iopub.status.busy": "2021-10-29T19:28:44.190771Z",
     "iopub.status.idle": "2021-10-29T19:28:44.201559Z",
     "shell.execute_reply": "2021-10-29T19:28:44.202056Z",
     "shell.execute_reply.started": "2021-10-29T19:26:35.288234Z"
    },
    "papermill": {
     "duration": 0.090865,
     "end_time": "2021-10-29T19:28:44.202270",
     "exception": false,
     "start_time": "2021-10-29T19:28:44.111405",
     "status": "completed"
    },
    "tags": []
   },
   "outputs": [],
   "source": [
    "# scaling the data\n",
    "scaler=StandardScaler()\n",
    "X_train_scaled=pd.DataFrame(scaler.fit_transform(X_train), columns=X_train.columns)  #fit_transform the training data\n",
    "X_test_scaled=pd.DataFrame(scaler.transform(X_test), columns=X_test.columns) #transform the testing data"
   ]
  },
  {
   "cell_type": "code",
   "execution_count": 36,
   "id": "e575640b",
   "metadata": {
    "execution": {
     "iopub.execute_input": "2021-10-29T19:28:44.354732Z",
     "iopub.status.busy": "2021-10-29T19:28:44.353765Z",
     "iopub.status.idle": "2021-10-29T19:28:44.363025Z",
     "shell.execute_reply": "2021-10-29T19:28:44.363527Z",
     "shell.execute_reply.started": "2021-10-29T19:26:35.300339Z"
    },
    "papermill": {
     "duration": 0.087157,
     "end_time": "2021-10-29T19:28:44.363716",
     "exception": false,
     "start_time": "2021-10-29T19:28:44.276559",
     "status": "completed"
    },
    "tags": []
   },
   "outputs": [
    {
     "data": {
      "text/plain": [
       "KNeighborsClassifier(n_neighbors=7, weights='distance')"
      ]
     },
     "execution_count": 36,
     "metadata": {},
     "output_type": "execute_result"
    }
   ],
   "source": [
    "#Fitting the model on the scaled data\n",
    "knn = KNeighborsClassifier(n_neighbors = 7, weights='distance')\n",
    "knn.fit(X_train_scaled, y_train)"
   ]
  },
  {
   "cell_type": "markdown",
   "id": "a1e3e94d",
   "metadata": {
    "papermill": {
     "duration": 0.098956,
     "end_time": "2021-10-29T19:28:44.538118",
     "exception": false,
     "start_time": "2021-10-29T19:28:44.439162",
     "status": "completed"
    },
    "tags": []
   },
   "source": [
    "**Now, let's check the performance of the model on the training and testing data**"
   ]
  },
  {
   "cell_type": "code",
   "execution_count": 37,
   "id": "44db7b1c",
   "metadata": {
    "execution": {
     "iopub.execute_input": "2021-10-29T19:28:44.737198Z",
     "iopub.status.busy": "2021-10-29T19:28:44.736480Z",
     "iopub.status.idle": "2021-10-29T19:28:45.023132Z",
     "shell.execute_reply": "2021-10-29T19:28:45.022293Z",
     "shell.execute_reply.started": "2021-10-29T19:26:35.315040Z"
    },
    "papermill": {
     "duration": 0.370349,
     "end_time": "2021-10-29T19:28:45.023368",
     "exception": false,
     "start_time": "2021-10-29T19:28:44.653019",
     "status": "completed"
    },
    "tags": []
   },
   "outputs": [
    {
     "name": "stdout",
     "output_type": "stream",
     "text": [
      "              precision    recall  f1-score   support\n",
      "\n",
      "           0       1.00      1.00      1.00       131\n",
      "           1       1.00      1.00      1.00       298\n",
      "\n",
      "    accuracy                           1.00       429\n",
      "   macro avg       1.00      1.00      1.00       429\n",
      "weighted avg       1.00      1.00      1.00       429\n",
      "\n"
     ]
    },
    {
     "data": {
      "image/png": "[encoded data removed]",
      "text/plain": [
       "<Figure size 576x360 with 2 Axes>"
      ]
     },
     "metadata": {
      "needs_background": "light"
     },
     "output_type": "display_data"
    }
   ],
   "source": [
    "#predicting on train data\n",
    "y_pred_train_knn = knn.predict(X_train_scaled)# write your code here\n",
    "\n",
    "#checking performance of the model\n",
    "metrics_score(y_train, y_pred_train_knn)"
   ]
  },
  {
   "cell_type": "markdown",
   "id": "35b495ad",
   "metadata": {
    "papermill": {
     "duration": 0.075732,
     "end_time": "2021-10-29T19:28:45.180807",
     "exception": false,
     "start_time": "2021-10-29T19:28:45.105075",
     "status": "completed"
    },
    "tags": []
   },
   "source": [
    "**Observations:**\n",
    "\n",
    "* The performance on the training set is very strong, as it predicts perfectly who is eligible and who isn't. The precission, recall, and and accuracy are all optimal at 100%. "
   ]
  },
  {
   "cell_type": "code",
   "execution_count": 38,
   "id": "87eccc68",
   "metadata": {
    "execution": {
     "iopub.execute_input": "2021-10-29T19:28:45.341197Z",
     "iopub.status.busy": "2021-10-29T19:28:45.340189Z",
     "iopub.status.idle": "2021-10-29T19:28:45.778487Z",
     "shell.execute_reply": "2021-10-29T19:28:45.779018Z",
     "shell.execute_reply.started": "2021-10-29T19:26:35.560807Z"
    },
    "papermill": {
     "duration": 0.522783,
     "end_time": "2021-10-29T19:28:45.779215",
     "exception": false,
     "start_time": "2021-10-29T19:28:45.256432",
     "status": "completed"
    },
    "tags": []
   },
   "outputs": [
    {
     "name": "stdout",
     "output_type": "stream",
     "text": [
      "              precision    recall  f1-score   support\n",
      "\n",
      "           0       0.61      0.31      0.41        61\n",
      "           1       0.73      0.90      0.81       124\n",
      "\n",
      "    accuracy                           0.71       185\n",
      "   macro avg       0.67      0.61      0.61       185\n",
      "weighted avg       0.69      0.71      0.68       185\n",
      "\n"
     ]
    },
    {
     "data": {
      "image/png": "[encoded data removed]",
      "text/plain": [
       "<Figure size 576x360 with 2 Axes>"
      ]
     },
     "metadata": {
      "needs_background": "light"
     },
     "output_type": "display_data"
    }
   ],
   "source": [
    "#predict on test data\n",
    "y_pred_test_knn = knn.predict(X_test_scaled)# Write your code here\n",
    "\n",
    "#checking performance of the model\n",
    "metrics_score(y_test, y_pred_test_knn)"
   ]
  },
  {
   "cell_type": "markdown",
   "id": "4cf5f314",
   "metadata": {
    "papermill": {
     "duration": 0.07579,
     "end_time": "2021-10-29T19:28:45.931614",
     "exception": false,
     "start_time": "2021-10-29T19:28:45.855824",
     "status": "completed"
    },
    "tags": []
   },
   "source": [
    "**Observation:**\n",
    "\n",
    "* We see a weak performance on the scaled testing data, as the recall score is only 0.31 for the 0. There were 42 people that our Knn model predicted to be eligible who are actually not eligible, which is concerning given that we want to minimize this value as much as possible. "
   ]
  },
  {
   "cell_type": "markdown",
   "id": "13d35472",
   "metadata": {
    "papermill": {
     "duration": 0.076676,
     "end_time": "2021-10-29T19:28:46.086648",
     "exception": false,
     "start_time": "2021-10-29T19:28:46.009972",
     "status": "completed"
    },
    "tags": []
   },
   "source": [
    "## Conclusion"
   ]
  },
  {
   "cell_type": "markdown",
   "id": "3cdf5980",
   "metadata": {
    "papermill": {
     "duration": 0.075916,
     "end_time": "2021-10-29T19:28:46.240321",
     "exception": false,
     "start_time": "2021-10-29T19:28:46.164405",
     "status": "completed"
    },
    "tags": []
   },
   "source": [
    "* Using multiple models, EDA, and visualization, we were able to identify the key factors that are involved with whether or not a loan application will be accepted, with the biggest one being credit history. \n",
    "\n",
    "* Our Logistic regression model gave thet highest recall score which is the measure that we wanted to maximize, since we don't want to grant loans to applicants who are unable to repay them, since it would hurt the company."
   ]
  }
 ],
 "metadata": {
  "kernelspec": {
   "display_name": "Python 3 (ipykernel)",
   "language": "python",
   "name": "python3"
  },
  "language_info": {
   "codemirror_mode": {
    "name": "ipython",
    "version": 3
   },
   "file_extension": ".py",
   "mimetype": "text/x-python",
   "name": "python",
   "nbconvert_exporter": "python",
   "pygments_lexer": "ipython3",
   "version": "3.9.7"
  },
  "papermill": {
   "default_parameters": {},
   "duration": 46.195908,
   "end_time": "2021-10-29T19:28:47.329843",
   "environment_variables": {},
   "exception": null,
   "input_path": "__notebook__.ipynb",
   "output_path": "__notebook__.ipynb",
   "parameters": {},
   "start_time": "2021-10-29T19:28:01.133935",
   "version": "2.3.3"
  }
 },
 "nbformat": 4,
 "nbformat_minor": 5
}
